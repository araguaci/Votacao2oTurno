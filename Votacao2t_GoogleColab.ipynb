{
  "cells": [
    {
      "cell_type": "markdown",
      "id": "96ba4d36",
      "metadata": {
        "id": "96ba4d36"
      },
      "source": [
        "# ANÁLISE DO SEGUNDO TURNO DAS ELEIÇÕES PRESIDENCIAIS DE 2022\n",
        "\n",
        "\n",
        "## Considerando os seguintes itens:\n",
        "* __ceft__ - Correspondências Efetivadas e Esperadas\n",
        "* __vs__ - Votação por seção\n",
        "* __bweb__ - BUs em CSV\n",
        "* Convocação de __mesarios__"
      ]
    },
    {
      "cell_type": "code",
      "source": [
        "!pip install pyspark\n",
        "!pip install -q findspark\n",
        "\n",
        "import findspark\n",
        "findspark.init()\n"
      ],
      "metadata": {
        "colab": {
          "base_uri": "https://localhost:8080/"
        },
        "id": "Vr5wIVPP0hIZ",
        "outputId": "a31ea1c0-464a-4bf6-fc52-bccd9ab34949"
      },
      "id": "Vr5wIVPP0hIZ",
      "execution_count": null,
      "outputs": [
        {
          "output_type": "stream",
          "name": "stdout",
          "text": [
            "Looking in indexes: https://pypi.org/simple, https://us-python.pkg.dev/colab-wheels/public/simple/\n",
            "Collecting pyspark\n",
            "  Downloading pyspark-3.3.1.tar.gz (281.4 MB)\n",
            "\u001b[K     |████████████████████████████████| 281.4 MB 40 kB/s \n",
            "\u001b[?25hCollecting py4j==0.10.9.5\n",
            "  Downloading py4j-0.10.9.5-py2.py3-none-any.whl (199 kB)\n",
            "\u001b[K     |████████████████████████████████| 199 kB 5.4 MB/s \n",
            "\u001b[?25hBuilding wheels for collected packages: pyspark\n",
            "  Building wheel for pyspark (setup.py) ... \u001b[?25l\u001b[?25hdone\n",
            "  Created wheel for pyspark: filename=pyspark-3.3.1-py2.py3-none-any.whl size=281845514 sha256=f4601150849cc688858309be3e3213b69ec7dc0d2bd3ab781057c16711665790\n",
            "  Stored in directory: /root/.cache/pip/wheels/42/59/f5/79a5bf931714dcd201b26025347785f087370a10a3329a899c\n",
            "Successfully built pyspark\n",
            "Installing collected packages: py4j, pyspark\n",
            "Successfully installed py4j-0.10.9.5 pyspark-3.3.1\n"
          ]
        }
      ]
    },
    {
      "cell_type": "code",
      "source": [
        "spark.stop()"
      ],
      "metadata": {
        "id": "XLfB44AzIMMO",
        "colab": {
          "base_uri": "https://localhost:8080/",
          "height": 169
        },
        "outputId": "f5b85e87-b2eb-432b-b57d-1a7f24b68598"
      },
      "id": "XLfB44AzIMMO",
      "execution_count": null,
      "outputs": [
        {
          "output_type": "error",
          "ename": "NameError",
          "evalue": "ignored",
          "traceback": [
            "\u001b[0;31m---------------------------------------------------------------------------\u001b[0m",
            "\u001b[0;31mNameError\u001b[0m                                 Traceback (most recent call last)",
            "\u001b[0;32m<ipython-input-2-5c6b4d5d9db0>\u001b[0m in \u001b[0;36m<module>\u001b[0;34m\u001b[0m\n\u001b[0;32m----> 1\u001b[0;31m \u001b[0mspark\u001b[0m\u001b[0;34m.\u001b[0m\u001b[0mstop\u001b[0m\u001b[0;34m(\u001b[0m\u001b[0;34m)\u001b[0m\u001b[0;34m\u001b[0m\u001b[0;34m\u001b[0m\u001b[0m\n\u001b[0m",
            "\u001b[0;31mNameError\u001b[0m: name 'spark' is not defined"
          ]
        }
      ]
    },
    {
      "cell_type": "code",
      "execution_count": null,
      "id": "c35e9e3b",
      "metadata": {
        "id": "c35e9e3b"
      },
      "outputs": [],
      "source": [
        "#Import do os Spark, Pandas, NumPy, matplotlib e Seaborn\n",
        "\n",
        "import os\n",
        "from pyspark.sql import SparkSession\n",
        "from pyspark.sql.functions import *\n",
        "from pyspark.sql.window import Window\n",
        "import pandas as pd\n",
        "import numpy as np\n",
        "#import pyspark.pandas as ps\n",
        "import string\n",
        "import seaborn as sns\n",
        "\n",
        "from matplotlib import pyplot as plt\n",
        "from google.colab import drive\n",
        "\n",
        "drive.mount('/content/drive')"
      ]
    },
    {
      "cell_type": "code",
      "source": [
        "!mkdir /content/vm\n",
        "!mkdir /content/bweb2T\n",
        "!mkdir /content/Mesarios\n",
        "!mkdir /content/vs\n",
        "!mkdir /content/CEFT2T\n",
        "!cp -r /content/drive/MyDrive/vm/* /content/vm\n",
        "!cp -r /content/drive/MyDrive/vs/* /content/vs\n",
        "!cp -r /content/drive/MyDrive/CEFT2T/* /content/CEFT2T\n",
        "!cp -r /content/drive/MyDrive/bweb2T/* /content/bweb2T\n",
        "!cp -r /content/drive/MyDrive/Mesarios/* /content/Mesarios \n",
        "\n"
      ],
      "metadata": {
        "id": "lrVQHEg9A41u"
      },
      "id": "lrVQHEg9A41u",
      "execution_count": null,
      "outputs": []
    },
    {
      "cell_type": "code",
      "execution_count": null,
      "id": "f7a16152",
      "metadata": {
        "id": "f7a16152",
        "colab": {
          "base_uri": "https://localhost:8080/",
          "height": 407
        },
        "collapsed": true,
        "cellView": "form",
        "outputId": "d83936be-1ef2-465f-be4e-a8a416188c53"
      },
      "outputs": [
        {
          "output_type": "stream",
          "name": "stdout",
          "text": [
            "mkdir: cannot create directory ‘/content/spark’: File exists\n"
          ]
        },
        {
          "output_type": "error",
          "ename": "ConnectionRefusedError",
          "evalue": "ignored",
          "traceback": [
            "\u001b[0;31m---------------------------------------------------------------------------\u001b[0m",
            "\u001b[0;31mConnectionRefusedError\u001b[0m                    Traceback (most recent call last)",
            "\u001b[0;32m<ipython-input-21-0e145725337c>\u001b[0m in \u001b[0;36m<module>\u001b[0;34m\u001b[0m\n\u001b[1;32m     23\u001b[0m           \u001b[0;34m.\u001b[0m\u001b[0mconfig\u001b[0m\u001b[0;34m(\u001b[0m\u001b[0;34m\"spark.task.resource.gpu.discoveryScript\"\u001b[0m\u001b[0;34m,\u001b[0m \u001b[0;34m\"/content/spark/getGpuResources.sh\"\u001b[0m\u001b[0;34m)\u001b[0m\u001b[0;31m\\\u001b[0m\u001b[0;34m\u001b[0m\u001b[0;34m\u001b[0m\u001b[0m\n\u001b[1;32m     24\u001b[0m           \u001b[0;34m.\u001b[0m\u001b[0mconfig\u001b[0m\u001b[0;34m(\u001b[0m\u001b[0;34m\"spark.executor.resource.gpu.amount\"\u001b[0m\u001b[0;34m,\u001b[0m \u001b[0;34m\"1\"\u001b[0m\u001b[0;34m)\u001b[0m\u001b[0;31m\\\u001b[0m\u001b[0;34m\u001b[0m\u001b[0;34m\u001b[0m\u001b[0m\n\u001b[0;32m---> 25\u001b[0;31m           \u001b[0;34m.\u001b[0m\u001b[0mconfig\u001b[0m\u001b[0;34m(\u001b[0m\u001b[0;34m\"spark.executor.resource.gpu.discoveryScript\"\u001b[0m\u001b[0;34m,\u001b[0m \u001b[0;34m\"/content/spark/getGpuResources.sh\"\u001b[0m\u001b[0;34m)\u001b[0m\u001b[0;31m\\\u001b[0m\u001b[0;34m\u001b[0m\u001b[0;34m\u001b[0m\u001b[0m\n\u001b[0m\u001b[1;32m     26\u001b[0m           \u001b[0;34m.\u001b[0m\u001b[0mgetOrCreate\u001b[0m\u001b[0;34m(\u001b[0m\u001b[0;34m)\u001b[0m\u001b[0;34m\u001b[0m\u001b[0;34m\u001b[0m\u001b[0m\n\u001b[1;32m     27\u001b[0m \u001b[0;34m\u001b[0m\u001b[0m\n",
            "\u001b[0;32m/usr/local/lib/python3.7/dist-packages/pyspark/sql/session.py\u001b[0m in \u001b[0;36mgetOrCreate\u001b[0;34m(self)\u001b[0m\n\u001b[1;32m    263\u001b[0m                 \u001b[0msession\u001b[0m \u001b[0;34m=\u001b[0m \u001b[0mSparkSession\u001b[0m\u001b[0;34m.\u001b[0m\u001b[0m_instantiatedSession\u001b[0m\u001b[0;34m\u001b[0m\u001b[0;34m\u001b[0m\u001b[0m\n\u001b[1;32m    264\u001b[0m                 \u001b[0;32mif\u001b[0m \u001b[0msession\u001b[0m \u001b[0;32mis\u001b[0m \u001b[0;32mNone\u001b[0m \u001b[0;32mor\u001b[0m \u001b[0msession\u001b[0m\u001b[0;34m.\u001b[0m\u001b[0m_sc\u001b[0m\u001b[0;34m.\u001b[0m\u001b[0m_jsc\u001b[0m \u001b[0;32mis\u001b[0m \u001b[0;32mNone\u001b[0m\u001b[0;34m:\u001b[0m\u001b[0;34m\u001b[0m\u001b[0;34m\u001b[0m\u001b[0m\n\u001b[0;32m--> 265\u001b[0;31m                     \u001b[0msparkConf\u001b[0m \u001b[0;34m=\u001b[0m \u001b[0mSparkConf\u001b[0m\u001b[0;34m(\u001b[0m\u001b[0;34m)\u001b[0m\u001b[0;34m\u001b[0m\u001b[0;34m\u001b[0m\u001b[0m\n\u001b[0m\u001b[1;32m    266\u001b[0m                     \u001b[0;32mfor\u001b[0m \u001b[0mkey\u001b[0m\u001b[0;34m,\u001b[0m \u001b[0mvalue\u001b[0m \u001b[0;32min\u001b[0m \u001b[0mself\u001b[0m\u001b[0;34m.\u001b[0m\u001b[0m_options\u001b[0m\u001b[0;34m.\u001b[0m\u001b[0mitems\u001b[0m\u001b[0;34m(\u001b[0m\u001b[0;34m)\u001b[0m\u001b[0;34m:\u001b[0m\u001b[0;34m\u001b[0m\u001b[0;34m\u001b[0m\u001b[0m\n\u001b[1;32m    267\u001b[0m                         \u001b[0msparkConf\u001b[0m\u001b[0;34m.\u001b[0m\u001b[0mset\u001b[0m\u001b[0;34m(\u001b[0m\u001b[0mkey\u001b[0m\u001b[0;34m,\u001b[0m \u001b[0mvalue\u001b[0m\u001b[0;34m)\u001b[0m\u001b[0;34m\u001b[0m\u001b[0;34m\u001b[0m\u001b[0m\n",
            "\u001b[0;32m/usr/local/lib/python3.7/dist-packages/pyspark/conf.py\u001b[0m in \u001b[0;36m__init__\u001b[0;34m(self, loadDefaults, _jvm, _jconf)\u001b[0m\n\u001b[1;32m    129\u001b[0m             \u001b[0;32mif\u001b[0m \u001b[0m_jvm\u001b[0m \u001b[0;32mis\u001b[0m \u001b[0;32mnot\u001b[0m \u001b[0;32mNone\u001b[0m\u001b[0;34m:\u001b[0m\u001b[0;34m\u001b[0m\u001b[0;34m\u001b[0m\u001b[0m\n\u001b[1;32m    130\u001b[0m                 \u001b[0;31m# JVM is created, so create self._jconf directly through JVM\u001b[0m\u001b[0;34m\u001b[0m\u001b[0;34m\u001b[0m\u001b[0;34m\u001b[0m\u001b[0m\n\u001b[0;32m--> 131\u001b[0;31m                 \u001b[0mself\u001b[0m\u001b[0;34m.\u001b[0m\u001b[0m_jconf\u001b[0m \u001b[0;34m=\u001b[0m \u001b[0m_jvm\u001b[0m\u001b[0;34m.\u001b[0m\u001b[0mSparkConf\u001b[0m\u001b[0;34m(\u001b[0m\u001b[0mloadDefaults\u001b[0m\u001b[0;34m)\u001b[0m\u001b[0;34m\u001b[0m\u001b[0;34m\u001b[0m\u001b[0m\n\u001b[0m\u001b[1;32m    132\u001b[0m                 \u001b[0mself\u001b[0m\u001b[0;34m.\u001b[0m\u001b[0m_conf\u001b[0m \u001b[0;34m=\u001b[0m \u001b[0;32mNone\u001b[0m\u001b[0;34m\u001b[0m\u001b[0;34m\u001b[0m\u001b[0m\n\u001b[1;32m    133\u001b[0m             \u001b[0;32melse\u001b[0m\u001b[0;34m:\u001b[0m\u001b[0;34m\u001b[0m\u001b[0;34m\u001b[0m\u001b[0m\n",
            "\u001b[0;32m/usr/local/lib/python3.7/dist-packages/py4j/java_gateway.py\u001b[0m in \u001b[0;36m__getattr__\u001b[0;34m(self, name)\u001b[0m\n\u001b[1;32m   1710\u001b[0m             \u001b[0mproto\u001b[0m\u001b[0;34m.\u001b[0m\u001b[0mREFLECTION_COMMAND_NAME\u001b[0m \u001b[0;34m+\u001b[0m\u001b[0;34m\u001b[0m\u001b[0;34m\u001b[0m\u001b[0m\n\u001b[1;32m   1711\u001b[0m             \u001b[0mproto\u001b[0m\u001b[0;34m.\u001b[0m\u001b[0mREFL_GET_UNKNOWN_SUB_COMMAND_NAME\u001b[0m \u001b[0;34m+\u001b[0m \u001b[0mname\u001b[0m \u001b[0;34m+\u001b[0m \u001b[0;34m\"\\n\"\u001b[0m \u001b[0;34m+\u001b[0m \u001b[0mself\u001b[0m\u001b[0;34m.\u001b[0m\u001b[0m_id\u001b[0m \u001b[0;34m+\u001b[0m\u001b[0;34m\u001b[0m\u001b[0;34m\u001b[0m\u001b[0m\n\u001b[0;32m-> 1712\u001b[0;31m             \"\\n\" + proto.END_COMMAND_PART)\n\u001b[0m\u001b[1;32m   1713\u001b[0m         \u001b[0;32mif\u001b[0m \u001b[0manswer\u001b[0m \u001b[0;34m==\u001b[0m \u001b[0mproto\u001b[0m\u001b[0;34m.\u001b[0m\u001b[0mSUCCESS_PACKAGE\u001b[0m\u001b[0;34m:\u001b[0m\u001b[0;34m\u001b[0m\u001b[0;34m\u001b[0m\u001b[0m\n\u001b[1;32m   1714\u001b[0m             \u001b[0;32mreturn\u001b[0m \u001b[0mJavaPackage\u001b[0m\u001b[0;34m(\u001b[0m\u001b[0mname\u001b[0m\u001b[0;34m,\u001b[0m \u001b[0mself\u001b[0m\u001b[0;34m.\u001b[0m\u001b[0m_gateway_client\u001b[0m\u001b[0;34m,\u001b[0m \u001b[0mjvm_id\u001b[0m\u001b[0;34m=\u001b[0m\u001b[0mself\u001b[0m\u001b[0;34m.\u001b[0m\u001b[0m_id\u001b[0m\u001b[0;34m)\u001b[0m\u001b[0;34m\u001b[0m\u001b[0;34m\u001b[0m\u001b[0m\n",
            "\u001b[0;32m/usr/local/lib/python3.7/dist-packages/py4j/java_gateway.py\u001b[0m in \u001b[0;36msend_command\u001b[0;34m(self, command, retry, binary)\u001b[0m\n\u001b[1;32m   1034\u001b[0m          \u001b[0;32mif\u001b[0m\u001b[0;31m \u001b[0m\u001b[0;31m`\u001b[0m\u001b[0mbinary\u001b[0m\u001b[0;31m`\u001b[0m \u001b[0;32mis\u001b[0m\u001b[0;31m \u001b[0m\u001b[0;31m`\u001b[0m\u001b[0;32mTrue\u001b[0m\u001b[0;31m`\u001b[0m\u001b[0;34m.\u001b[0m\u001b[0;34m\u001b[0m\u001b[0;34m\u001b[0m\u001b[0m\n\u001b[1;32m   1035\u001b[0m         \"\"\"\n\u001b[0;32m-> 1036\u001b[0;31m         \u001b[0mconnection\u001b[0m \u001b[0;34m=\u001b[0m \u001b[0mself\u001b[0m\u001b[0;34m.\u001b[0m\u001b[0m_get_connection\u001b[0m\u001b[0;34m(\u001b[0m\u001b[0;34m)\u001b[0m\u001b[0;34m\u001b[0m\u001b[0;34m\u001b[0m\u001b[0m\n\u001b[0m\u001b[1;32m   1037\u001b[0m         \u001b[0;32mtry\u001b[0m\u001b[0;34m:\u001b[0m\u001b[0;34m\u001b[0m\u001b[0;34m\u001b[0m\u001b[0m\n\u001b[1;32m   1038\u001b[0m             \u001b[0mresponse\u001b[0m \u001b[0;34m=\u001b[0m \u001b[0mconnection\u001b[0m\u001b[0;34m.\u001b[0m\u001b[0msend_command\u001b[0m\u001b[0;34m(\u001b[0m\u001b[0mcommand\u001b[0m\u001b[0;34m)\u001b[0m\u001b[0;34m\u001b[0m\u001b[0;34m\u001b[0m\u001b[0m\n",
            "\u001b[0;32m/usr/local/lib/python3.7/dist-packages/py4j/clientserver.py\u001b[0m in \u001b[0;36m_get_connection\u001b[0;34m(self)\u001b[0m\n\u001b[1;32m    282\u001b[0m \u001b[0;34m\u001b[0m\u001b[0m\n\u001b[1;32m    283\u001b[0m         \u001b[0;32mif\u001b[0m \u001b[0mconnection\u001b[0m \u001b[0;32mis\u001b[0m \u001b[0;32mNone\u001b[0m \u001b[0;32mor\u001b[0m \u001b[0mconnection\u001b[0m\u001b[0;34m.\u001b[0m\u001b[0msocket\u001b[0m \u001b[0;32mis\u001b[0m \u001b[0;32mNone\u001b[0m\u001b[0;34m:\u001b[0m\u001b[0;34m\u001b[0m\u001b[0;34m\u001b[0m\u001b[0m\n\u001b[0;32m--> 284\u001b[0;31m             \u001b[0mconnection\u001b[0m \u001b[0;34m=\u001b[0m \u001b[0mself\u001b[0m\u001b[0;34m.\u001b[0m\u001b[0m_create_new_connection\u001b[0m\u001b[0;34m(\u001b[0m\u001b[0;34m)\u001b[0m\u001b[0;34m\u001b[0m\u001b[0;34m\u001b[0m\u001b[0m\n\u001b[0m\u001b[1;32m    285\u001b[0m         \u001b[0;32mreturn\u001b[0m \u001b[0mconnection\u001b[0m\u001b[0;34m\u001b[0m\u001b[0;34m\u001b[0m\u001b[0m\n\u001b[1;32m    286\u001b[0m \u001b[0;34m\u001b[0m\u001b[0m\n",
            "\u001b[0;32m/usr/local/lib/python3.7/dist-packages/py4j/clientserver.py\u001b[0m in \u001b[0;36m_create_new_connection\u001b[0;34m(self)\u001b[0m\n\u001b[1;32m    289\u001b[0m             \u001b[0mself\u001b[0m\u001b[0;34m.\u001b[0m\u001b[0mjava_parameters\u001b[0m\u001b[0;34m,\u001b[0m \u001b[0mself\u001b[0m\u001b[0;34m.\u001b[0m\u001b[0mpython_parameters\u001b[0m\u001b[0;34m,\u001b[0m\u001b[0;34m\u001b[0m\u001b[0;34m\u001b[0m\u001b[0m\n\u001b[1;32m    290\u001b[0m             self.gateway_property, self)\n\u001b[0;32m--> 291\u001b[0;31m         \u001b[0mconnection\u001b[0m\u001b[0;34m.\u001b[0m\u001b[0mconnect_to_java_server\u001b[0m\u001b[0;34m(\u001b[0m\u001b[0;34m)\u001b[0m\u001b[0;34m\u001b[0m\u001b[0;34m\u001b[0m\u001b[0m\n\u001b[0m\u001b[1;32m    292\u001b[0m         \u001b[0mself\u001b[0m\u001b[0;34m.\u001b[0m\u001b[0mset_thread_connection\u001b[0m\u001b[0;34m(\u001b[0m\u001b[0mconnection\u001b[0m\u001b[0;34m)\u001b[0m\u001b[0;34m\u001b[0m\u001b[0;34m\u001b[0m\u001b[0m\n\u001b[1;32m    293\u001b[0m         \u001b[0;32mreturn\u001b[0m \u001b[0mconnection\u001b[0m\u001b[0;34m\u001b[0m\u001b[0;34m\u001b[0m\u001b[0m\n",
            "\u001b[0;32m/usr/local/lib/python3.7/dist-packages/py4j/clientserver.py\u001b[0m in \u001b[0;36mconnect_to_java_server\u001b[0;34m(self)\u001b[0m\n\u001b[1;32m    436\u001b[0m                 self.socket = self.ssl_context.wrap_socket(\n\u001b[1;32m    437\u001b[0m                     self.socket, server_hostname=self.java_address)\n\u001b[0;32m--> 438\u001b[0;31m             \u001b[0mself\u001b[0m\u001b[0;34m.\u001b[0m\u001b[0msocket\u001b[0m\u001b[0;34m.\u001b[0m\u001b[0mconnect\u001b[0m\u001b[0;34m(\u001b[0m\u001b[0;34m(\u001b[0m\u001b[0mself\u001b[0m\u001b[0;34m.\u001b[0m\u001b[0mjava_address\u001b[0m\u001b[0;34m,\u001b[0m \u001b[0mself\u001b[0m\u001b[0;34m.\u001b[0m\u001b[0mjava_port\u001b[0m\u001b[0;34m)\u001b[0m\u001b[0;34m)\u001b[0m\u001b[0;34m\u001b[0m\u001b[0;34m\u001b[0m\u001b[0m\n\u001b[0m\u001b[1;32m    439\u001b[0m             \u001b[0mself\u001b[0m\u001b[0;34m.\u001b[0m\u001b[0mstream\u001b[0m \u001b[0;34m=\u001b[0m \u001b[0mself\u001b[0m\u001b[0;34m.\u001b[0m\u001b[0msocket\u001b[0m\u001b[0;34m.\u001b[0m\u001b[0mmakefile\u001b[0m\u001b[0;34m(\u001b[0m\u001b[0;34m\"rb\"\u001b[0m\u001b[0;34m)\u001b[0m\u001b[0;34m\u001b[0m\u001b[0;34m\u001b[0m\u001b[0m\n\u001b[1;32m    440\u001b[0m             \u001b[0mself\u001b[0m\u001b[0;34m.\u001b[0m\u001b[0mis_connected\u001b[0m \u001b[0;34m=\u001b[0m \u001b[0;32mTrue\u001b[0m\u001b[0;34m\u001b[0m\u001b[0;34m\u001b[0m\u001b[0m\n",
            "\u001b[0;31mConnectionRefusedError\u001b[0m: [Errno 111] Connection refused"
          ]
        }
      ],
      "source": [
        "#@title\n",
        "os.environ[\"PYSPARK_SUBMIT_ARGS\"] = '--driver-memory 2g --executor-memory 2g --driver-cores 1 --executor-cores 11 pyspark-shell'\n",
        "\n",
        "#Inicia Spark Session e configura o HTML Table do Pandas, além de definir o Path\n",
        "path = \"/content/drive/MyDrive\" #Mude o caminho para o diretório da sua máquina ou serviço de Cloud\n",
        "\n",
        "!mkdir /content/spark\n",
        "!cp /content/drive/MyDrive/spark/getGpuResources.sh /content/spark\n",
        "!chmod 755 /content/spark/getGpuResources.sh\n",
        "\n",
        "#com GPU\n",
        "spark = SparkSession.builder\\\n",
        "          .appName(\"V2T\")\\\n",
        "          .master(\"local[*]\")\\\n",
        "          .config(\"spark.executor.cores\", \"11\")\\\n",
        "          .config(\"spark.driver.cores\", \"1\")\\\n",
        "          .config(\"spark.executor.instances\", \"10\")\\\n",
        "          .config(\"spark.ui.port\", \"4050\")\\\n",
        "          .config(\"spark.jars\", path + \"/spark/rapids-4-spark_2.12-22.10.0.jar\")\\\n",
        "          .config(\"spark.rapids.sql.enabled\",\"true\")\\\n",
        "          .config(\"spark.driver.resource.gpu.amount\", \"1\")\\\n",
        "          .config(\"spark.driver.resource.gpu.discoveryScript\", \"/content/spark/getGpuResources.sh\")\\\n",
        "          .config(\"spark.task.resource.gpu.amount\", \"1\")\\\n",
        "          .config(\"spark.task.resource.gpu.discoveryScript\", \"/content/spark/getGpuResources.sh\")\\\n",
        "          .config(\"spark.executor.resource.gpu.amount\", \"1\")\\\n",
        "          .config(\"spark.executor.resource.gpu.discoveryScript\", \"/content/spark/getGpuResources.sh\")\\\n",
        "          .getOrCreate()\n",
        "\n",
        "\n",
        "spark.sparkContext.setLogLevel(\"INFO\")\n",
        "\n",
        "pd.options.display.html.table_schema=True\n",
        "\n"
      ]
    },
    {
      "cell_type": "code",
      "source": [
        "#@title\n",
        "os.environ[\"PYSPARK_SUBMIT_ARGS\"] = '--driver-memory 32g --executor-memory 32g --driver-cores 12 --executor-cores 12 pyspark-shell'\n",
        "\n",
        "#Inicia Spark Session e configura o HTML Table do Pandas, além de definir o Path\n",
        "path = \"/content/\" #Mude o caminho para o diretório da sua máquina ou serviço de Cloud\n",
        "\n",
        "#com CPU\n",
        "spark = SparkSession.builder\\\n",
        "          .appName(\"V2T\")\\\n",
        "          .master(\"local[*]\")\\\n",
        "          .config(\"spark.executor.cores\", \"12\")\\\n",
        "          .config(\"spark.driver.cores\", \"12\")\\\n",
        "          .config(\"spark.executor.memory\", \"32g\")\\\n",
        "          .config(\"spark.driver.memory\", \"32g\")\\\n",
        "          .config(\"spark.executor.instances\", \"10\")\\\n",
        "          .config(\"spark.ui.port\", \"4050\")\\\n",
        "          .getOrCreate()\n",
        "\n",
        "\n",
        "spark.sparkContext.setLogLevel(\"INFO\")\n",
        "\n",
        "pd.options.display.html.table_schema=True\n",
        "\n"
      ],
      "metadata": {
        "id": "pPJmiScJzAL7"
      },
      "id": "pPJmiScJzAL7",
      "execution_count": null,
      "outputs": []
    },
    {
      "cell_type": "code",
      "source": [
        "#Baixa o ngrok para poder ver a Spark UI\n",
        "!wget https://bin.equinox.io/c/bNyj1mQVY4c/ngrok-v3-stable-linux-amd64.tgz\n",
        "!tar xvzf /content/ngrok-v3-stable-linux-amd64.tgz\n"
      ],
      "metadata": {
        "colab": {
          "base_uri": "https://localhost:8080/"
        },
        "id": "vRBTEIN-l7Vq",
        "outputId": "92fc72c8-945e-4bcc-cfc8-0b33d69d5a3c"
      },
      "id": "vRBTEIN-l7Vq",
      "execution_count": null,
      "outputs": [
        {
          "output_type": "stream",
          "name": "stdout",
          "text": [
            "--2022-11-16 06:55:29--  https://bin.equinox.io/c/bNyj1mQVY4c/ngrok-v3-stable-linux-amd64.tgz\n",
            "Resolving bin.equinox.io (bin.equinox.io)... 54.161.241.46, 52.202.168.65, 18.205.222.128, ...\n",
            "Connecting to bin.equinox.io (bin.equinox.io)|54.161.241.46|:443... connected.\n",
            "HTTP request sent, awaiting response... 200 OK\n",
            "Length: 8413784 (8.0M) [application/octet-stream]\n",
            "Saving to: ‘ngrok-v3-stable-linux-amd64.tgz’\n",
            "\n",
            "ngrok-v3-stable-lin 100%[===================>]   8.02M  28.7MB/s    in 0.3s    \n",
            "\n",
            "2022-11-16 06:55:29 (28.7 MB/s) - ‘ngrok-v3-stable-linux-amd64.tgz’ saved [8413784/8413784]\n",
            "\n",
            "ngrok\n"
          ]
        }
      ]
    },
    {
      "cell_type": "code",
      "source": [
        "#Autentica ngrok com o seu authtoken e abre o servidor\n",
        "!/content/ngrok config add-authtoken 2Hc5CCZKmrlRX7DyJoagQUgjlLz_6hamTwFLgGygo22FfWvDY\n",
        "get_ipython().system_raw('./ngrok http 4050 &')"
      ],
      "metadata": {
        "colab": {
          "base_uri": "https://localhost:8080/"
        },
        "id": "JQeOM53-oM6N",
        "outputId": "f9206e32-329d-4113-984b-014825e983bc"
      },
      "id": "JQeOM53-oM6N",
      "execution_count": null,
      "outputs": [
        {
          "output_type": "stream",
          "name": "stdout",
          "text": [
            "Authtoken saved to configuration file: /root/.config/ngrok/ngrok.yml\n"
          ]
        }
      ]
    },
    {
      "cell_type": "code",
      "source": [
        "#Pega o link do ngrok para a interface do Spark UI\n",
        "!curl -s http://localhost:4040/api/tunnels"
      ],
      "metadata": {
        "colab": {
          "base_uri": "https://localhost:8080/"
        },
        "id": "D-1nJCWsmdsJ",
        "outputId": "8c9cf3cb-2706-4226-e34b-6f571eae463f"
      },
      "id": "D-1nJCWsmdsJ",
      "execution_count": null,
      "outputs": [
        {
          "output_type": "stream",
          "name": "stdout",
          "text": [
            "{\"tunnels\":[{\"name\":\"command_line\",\"ID\":\"0e716ffbb2e815ad06dac99d42ce2b61\",\"uri\":\"/api/tunnels/command_line\",\"public_url\":\"https://9d36-34-170-234-239.ngrok.io\",\"proto\":\"https\",\"config\":{\"addr\":\"http://localhost:4050\",\"inspect\":true},\"metrics\":{\"conns\":{\"count\":0,\"gauge\":0,\"rate1\":0,\"rate5\":0,\"rate15\":0,\"p50\":0,\"p90\":0,\"p95\":0,\"p99\":0},\"http\":{\"count\":0,\"rate1\":0,\"rate5\":0,\"rate15\":0,\"p50\":0,\"p90\":0,\"p95\":0,\"p99\":0}}}],\"uri\":\"/api/tunnels\"}\n"
          ]
        }
      ]
    },
    {
      "cell_type": "code",
      "source": [
        "!nvidia-smi --query-gpu=index --format=csv,noheader\n",
        "#!apt-get install libgl1-mesa-glx libegl1-mesa libxrandr2 libxrandr2 libxss1 libxcursor1 libxcomposite1 libasound2 libxi6 libxtst6"
      ],
      "metadata": {
        "colab": {
          "base_uri": "https://localhost:8080/"
        },
        "id": "q3lzRPgaJmOR",
        "outputId": "f7176b44-86f9-4098-f522-4322414da722"
      },
      "id": "q3lzRPgaJmOR",
      "execution_count": null,
      "outputs": [
        {
          "output_type": "stream",
          "name": "stdout",
          "text": [
            "0\n"
          ]
        }
      ]
    },
    {
      "cell_type": "code",
      "execution_count": null,
      "id": "e5863549",
      "metadata": {
        "id": "e5863549"
      },
      "outputs": [],
      "source": [
        "#Lê BUs dos arquivos CSV bweb já descomprimidos. Filtra apenas eleição para presidente.\n",
        "bweb = spark.read.csv(\n",
        "                    path + \"/bweb2T/bweb*/*.csv\", \n",
        "                    header=True, \n",
        "                    inferSchema=True, \n",
        "                    encoding=\"ISO-8859-1\", \n",
        "                    sep=\";\")\\\n",
        "            .filter(\"CD_CARGO_PERGUNTA = 1\")"
      ]
    },
    {
      "cell_type": "code",
      "execution_count": null,
      "id": "fc614051",
      "metadata": {
        "id": "fc614051"
      },
      "outputs": [],
      "source": [
        "#Lê Resultado por seção do arquivo CSV já descomprimido. Filtra apenas 2o turno.\n",
        "vs = spark.read.csv(\n",
        "                    path + \"/vs/*.csv\", \n",
        "                    header=True, \n",
        "                    inferSchema=True, \n",
        "                    encoding=\"ISO-8859-1\", sep=\";\")\\\n",
        "            .filter(\"NR_TURNO = 2\")"
      ]
    },
    {
      "cell_type": "code",
      "execution_count": null,
      "id": "e087f8b1",
      "metadata": {
        "id": "e087f8b1"
      },
      "outputs": [],
      "source": [
        "#Lê resultados dos arquivos de Correspondências Efetivadas do segundo turno já descomprimidos. \n",
        "\n",
        "ceft = spark.read.csv(\n",
        "                    path + \"/CEFT2T/*/*.csv\", \n",
        "                    header=True, inferSchema=True, \n",
        "                    encoding=\"ISO-8859-1\", sep=\";\")"
      ]
    },
    {
      "cell_type": "code",
      "execution_count": null,
      "id": "dd3c1077",
      "metadata": {
        "id": "dd3c1077",
        "outputId": "465b0436-0ca4-43dd-a4d7-bebf07d7cfdb",
        "colab": {
          "base_uri": "https://localhost:8080/"
        }
      },
      "outputs": [
        {
          "output_type": "stream",
          "name": "stdout",
          "text": [
            "root\n",
            " |-- DT_GERACAO: string (nullable = true)\n",
            " |-- HH_GERACAO: timestamp (nullable = true)\n",
            " |-- ANO_ELEICAO: integer (nullable = true)\n",
            " |-- CD_TIPO_ELEICAO: integer (nullable = true)\n",
            " |-- NM_TIPO_ELEICAO: string (nullable = true)\n",
            " |-- NR_TURNO: integer (nullable = true)\n",
            " |-- CD_ELEICAO: integer (nullable = true)\n",
            " |-- DS_ELEICAO: string (nullable = true)\n",
            " |-- DT_ELEICAO: string (nullable = true)\n",
            " |-- TP_ABRANGENCIA: string (nullable = true)\n",
            " |-- SG_UF: string (nullable = true)\n",
            " |-- SG_UE: string (nullable = true)\n",
            " |-- NM_UE: string (nullable = true)\n",
            " |-- CD_MUNICIPIO: integer (nullable = true)\n",
            " |-- NM_MUNICIPIO: string (nullable = true)\n",
            " |-- NR_ZONA: integer (nullable = true)\n",
            " |-- NR_SECAO: integer (nullable = true)\n",
            " |-- CD_CARGO: integer (nullable = true)\n",
            " |-- DS_CARGO: string (nullable = true)\n",
            " |-- NR_VOTAVEL: integer (nullable = true)\n",
            " |-- NM_VOTAVEL: string (nullable = true)\n",
            " |-- QT_VOTOS: integer (nullable = true)\n",
            " |-- NR_LOCAL_VOTACAO: integer (nullable = true)\n",
            " |-- SQ_CANDIDATO: long (nullable = true)\n",
            " |-- NM_LOCAL_VOTACAO: string (nullable = true)\n",
            " |-- DS_LOCAL_VOTACAO_ENDERECO: string (nullable = true)\n",
            "\n"
          ]
        },
        {
          "output_type": "execute_result",
          "data": {
            "text/plain": [
              "1850892"
            ]
          },
          "metadata": {},
          "execution_count": 15
        }
      ],
      "source": [
        "#Analisa Schema vs e contagem de registros\n",
        "vs.printSchema()\n",
        "vs.count()"
      ]
    },
    {
      "cell_type": "code",
      "execution_count": null,
      "id": "8422d071",
      "metadata": {
        "id": "8422d071",
        "outputId": "82ee7a57-2775-4f79-8465-958802e697eb",
        "colab": {
          "base_uri": "https://localhost:8080/"
        }
      },
      "outputs": [
        {
          "output_type": "stream",
          "name": "stdout",
          "text": [
            "root\n",
            " |-- DT_GERACAO: string (nullable = true)\n",
            " |-- HH_GERACAO: timestamp (nullable = true)\n",
            " |-- ANO_ELEICAO: integer (nullable = true)\n",
            " |-- CD_TIPO_ELEICAO: integer (nullable = true)\n",
            " |-- NM_TIPO_ELEICAO: string (nullable = true)\n",
            " |-- CD_PLEITO: integer (nullable = true)\n",
            " |-- DT_PLEITO: string (nullable = true)\n",
            " |-- NR_TURNO: integer (nullable = true)\n",
            " |-- CD_ELEICAO: integer (nullable = true)\n",
            " |-- DS_ELEICAO: string (nullable = true)\n",
            " |-- SG_UF: string (nullable = true)\n",
            " |-- CD_MUNICIPIO: integer (nullable = true)\n",
            " |-- NM_MUNICIPIO: string (nullable = true)\n",
            " |-- NR_ZONA: integer (nullable = true)\n",
            " |-- NR_SECAO: integer (nullable = true)\n",
            " |-- NR_LOCAL_VOTACAO: integer (nullable = true)\n",
            " |-- CD_CARGO_PERGUNTA: integer (nullable = true)\n",
            " |-- DS_CARGO_PERGUNTA: string (nullable = true)\n",
            " |-- NR_PARTIDO: integer (nullable = true)\n",
            " |-- SG_PARTIDO: string (nullable = true)\n",
            " |-- NM_PARTIDO: string (nullable = true)\n",
            " |-- DT_BU_RECEBIDO: string (nullable = true)\n",
            " |-- QT_APTOS: integer (nullable = true)\n",
            " |-- QT_COMPARECIMENTO: integer (nullable = true)\n",
            " |-- QT_ABSTENCOES: integer (nullable = true)\n",
            " |-- CD_TIPO_URNA: integer (nullable = true)\n",
            " |-- DS_TIPO_URNA: string (nullable = true)\n",
            " |-- CD_TIPO_VOTAVEL: integer (nullable = true)\n",
            " |-- DS_TIPO_VOTAVEL: string (nullable = true)\n",
            " |-- NR_VOTAVEL: integer (nullable = true)\n",
            " |-- NM_VOTAVEL: string (nullable = true)\n",
            " |-- QT_VOTOS: integer (nullable = true)\n",
            " |-- NR_URNA_EFETIVADA: integer (nullable = true)\n",
            " |-- CD_CARGA_1_URNA_EFETIVADA: string (nullable = true)\n",
            " |-- CD_CARGA_2_URNA_EFETIVADA: string (nullable = true)\n",
            " |-- CD_FLASHCARD_URNA_EFETIVADA: string (nullable = true)\n",
            " |-- DT_CARGA_URNA_EFETIVADA: string (nullable = true)\n",
            " |-- DS_CARGO_PERGUNTA_SECAO: string (nullable = true)\n",
            " |-- DS_AGREGADAS: string (nullable = true)\n",
            " |-- DT_ABERTURA: string (nullable = true)\n",
            " |-- DT_ENCERRAMENTO: string (nullable = true)\n",
            " |-- QT_ELEITORES_BIOMETRIA_NH: integer (nullable = true)\n",
            " |-- DT_EMISSAO_BU: string (nullable = true)\n",
            " |-- NR_JUNTA_APURADORA: integer (nullable = true)\n",
            " |-- NR_TURMA_APURADORA: integer (nullable = true)\n",
            "\n"
          ]
        },
        {
          "output_type": "execute_result",
          "data": {
            "text/plain": [
              "1850892"
            ]
          },
          "metadata": {},
          "execution_count": 16
        }
      ],
      "source": [
        "#Analisa Schema bweb e contagem de registros\n",
        "\n",
        "bweb.printSchema()\n",
        "bweb.count()"
      ]
    },
    {
      "cell_type": "code",
      "execution_count": null,
      "id": "5c11ca66",
      "metadata": {
        "id": "5c11ca66",
        "outputId": "39465f85-44b1-4fdc-bd0f-d8c767f59263",
        "colab": {
          "base_uri": "https://localhost:8080/"
        }
      },
      "outputs": [
        {
          "output_type": "stream",
          "name": "stdout",
          "text": [
            "root\n",
            " |-- DT_GERACAO: string (nullable = true)\n",
            " |-- HH_GERACAO: timestamp (nullable = true)\n",
            " |-- ANO_ELEICAO: integer (nullable = true)\n",
            " |-- CD_PLEITO: integer (nullable = true)\n",
            " |-- DT_PLEITO: string (nullable = true)\n",
            " |-- SG_UF: string (nullable = true)\n",
            " |-- CD_MUNICIPIO: integer (nullable = true)\n",
            " |-- NM_MUNICIPIO: string (nullable = true)\n",
            " |-- NR_ZONA: integer (nullable = true)\n",
            " |-- NR_SECAO: integer (nullable = true)\n",
            " |-- SQ_CORRESPONDENCIA_ESPERADA: integer (nullable = true)\n",
            " |-- NR_URNA_ESPERADA: integer (nullable = true)\n",
            " |-- CD_CARGA_URNA_ESPERADA: decimal(24,0) (nullable = true)\n",
            " |-- CD_CARGA_1_URNA_ESPERADA: string (nullable = true)\n",
            " |-- CD_CARGA_2_URNA_ESPERADA: string (nullable = true)\n",
            " |-- CD_FLASHCARD_URNA_ESPERADA: string (nullable = true)\n",
            " |-- DT_CARGA_URNA_ESPERADA: string (nullable = true)\n",
            " |-- DT_RECO_URNA_ESPERADA: string (nullable = true)\n",
            " |-- SQ_CORRESPONDENCIA_EFETIVADA: integer (nullable = true)\n",
            " |-- NR_URNA_EFETIVADA: integer (nullable = true)\n",
            " |-- CD_CARGA_URNA_EFETIVADA: decimal(24,0) (nullable = true)\n",
            " |-- CD_CARGA_1_URNA_EFETIVADA: string (nullable = true)\n",
            " |-- CD_CARGA_2_URNA_EFETIVADA: double (nullable = true)\n",
            " |-- CD_FLASHCARD_URNA_EFETIVADA: string (nullable = true)\n",
            " |-- DT_CARGA_URNA_EFETIVADA: string (nullable = true)\n",
            " |-- DT_RECO_URNA_EFETIVADA: string (nullable = true)\n",
            " |-- CD_ORIGEM_VOTO: string (nullable = true)\n",
            " |-- DS_ORIGEM_VOTO: string (nullable = true)\n",
            " |-- DS_DIVERGENCIA: string (nullable = true)\n",
            " |-- NR_LOCAL_VOTACAO: integer (nullable = true)\n",
            "\n"
          ]
        },
        {
          "output_type": "execute_result",
          "data": {
            "text/plain": [
              "472027"
            ]
          },
          "metadata": {},
          "execution_count": 17
        }
      ],
      "source": [
        "#Analisa Schema ceft e contagem de registros\n",
        "\n",
        "ceft.printSchema()\n",
        "ceft.count()"
      ]
    },
    {
      "cell_type": "markdown",
      "id": "a4e1a80e",
      "metadata": {
        "id": "a4e1a80e"
      },
      "source": [
        "## ENGENHARIA DE DADOS\n",
        "\n",
        "Nesta parte do Notebook iremos trabalhar com engenharia de dados. São feitas as seguintes etapas:\n",
        "\n",
        "1. Criação do campo urna_id, que será usado para fazer joins com ceft, vs e bweb\n",
        "2. Criação do campo zona_id, que será usado para join com o dataset mesarios posteriormente\n",
        "3. Criação do campo modelo a partir do número da urna\n",
        "4. Ajustes dos campos de data dos mais diversos\n",
        "5. Criação do campo região\n",
        "6. Eliminação de campos desnecessários ou repetidos\n",
        "7. Criação do campo urna_id no dataframe vs\n",
        "8. Criação do campo urna_id e ajustes de data no dataframe ceft\n",
        "\n",
        "Os dataframes são todos reparticionados pelo campo urna_id para facilitar o join e otimizar a performance.\n",
        "\n",
        "Após essa etapa são criadas as views bweb, vs e ceft, que serão usadas para o primeiro join, que gera um novo dataframe ainda sem agrupar os dados para análise, o que será feito no próximo quadro.\n",
        "\n",
        "Como iremos agrupar esse dataset, já foi utilizada a função persist() do Spark para armazenar os dados na memória, facilitando os próximos passos."
      ]
    },
    {
      "cell_type": "code",
      "execution_count": null,
      "id": "07b09ec9",
      "metadata": {
        "id": "07b09ec9",
        "outputId": "72de8af0-c2e5-4346-bca4-f05585482bfe",
        "colab": {
          "base_uri": "https://localhost:8080/"
        }
      },
      "outputs": [
        {
          "output_type": "stream",
          "name": "stdout",
          "text": [
            "root\n",
            " |-- SG_UF: string (nullable = true)\n",
            " |-- CD_MUNICIPIO: integer (nullable = true)\n",
            " |-- NM_MUNICIPIO: string (nullable = true)\n",
            " |-- NR_ZONA: integer (nullable = true)\n",
            " |-- NR_SECAO: integer (nullable = true)\n",
            " |-- NR_LOCAL_VOTACAO: integer (nullable = true)\n",
            " |-- QT_APTOS: integer (nullable = true)\n",
            " |-- QT_COMPARECIMENTO: integer (nullable = true)\n",
            " |-- QT_ABSTENCOES: integer (nullable = true)\n",
            " |-- CD_TIPO_URNA: integer (nullable = true)\n",
            " |-- DS_TIPO_VOTAVEL: string (nullable = true)\n",
            " |-- NR_VOTAVEL: integer (nullable = true)\n",
            " |-- QT_VOTOS: integer (nullable = true)\n",
            " |-- DS_AGREGADAS: string (nullable = true)\n",
            " |-- QT_ELEITORES_BIOMETRIA_NH: integer (nullable = true)\n",
            " |-- NR_JUNTA_APURADORA: integer (nullable = true)\n",
            " |-- NR_TURMA_APURADORA: integer (nullable = true)\n",
            " |-- urna_id: string (nullable = false)\n",
            " |-- zona_id: string (nullable = false)\n",
            " |-- modelo: integer (nullable = false)\n",
            " |-- dh_geracao: timestamp (nullable = true)\n",
            " |-- dh_emissao_bu: timestamp (nullable = true)\n",
            " |-- dh_bu_recebido: timestamp (nullable = true)\n",
            " |-- dh_abertura: timestamp (nullable = true)\n",
            " |-- dh_encerramento: timestamp (nullable = true)\n",
            " |-- regiao: string (nullable = false)\n",
            " |-- local_votacao: string (nullable = true)\n",
            " |-- endereco: string (nullable = true)\n",
            " |-- dh_carga_urna_esperada: timestamp (nullable = true)\n",
            " |-- dh_carga_urna_efetivada: timestamp (nullable = true)\n",
            " |-- dh_reco_urna_esperada: timestamp (nullable = true)\n",
            " |-- dh_reco_urna_efetivada: timestamp (nullable = true)\n",
            " |-- urna_efetivada: integer (nullable = true)\n",
            " |-- urna_esperada: integer (nullable = true)\n",
            " |-- carga_urna_esperada: string (nullable = true)\n",
            " |-- carga_1_urna_esperada: string (nullable = true)\n",
            " |-- carga_2_urna_esperada: string (nullable = true)\n",
            " |-- carga_urna_efetivada: string (nullable = true)\n",
            " |-- carga_1_urna_efetivada: string (nullable = true)\n",
            " |-- carga_2_urna_efetivada: string (nullable = true)\n",
            " |-- flashcard_urna_esperada: string (nullable = true)\n",
            " |-- flashcard_urna_efetivada: string (nullable = true)\n",
            " |-- ds_origem_voto: string (nullable = true)\n",
            " |-- urna_contingencia: integer (nullable = false)\n",
            " |-- origem_voto: integer (nullable = true)\n",
            "\n"
          ]
        },
        {
          "output_type": "execute_result",
          "data": {
            "text/plain": [
              "1850892"
            ]
          },
          "metadata": {},
          "execution_count": 44
        }
      ],
      "source": [
        "bweb_t = bweb\\\n",
        "            .withColumn(\"urna_id\", concat_ws(\"-\", col(\"CD_MUNICIPIO\"), col(\"NR_ZONA\"), col(\"NR_SECAO\")))\\\n",
        "            .withColumn(\"zona_id\", concat_ws(\"-\", col(\"CD_MUNICIPIO\"), col(\"NR_ZONA\")))\\\n",
        "            .withColumn(\"modelo\", expr('''\n",
        "                                    CASE WHEN NR_URNA_EFETIVADA BETWEEN 999500 AND 1220500 THEN 2009\n",
        "                                    WHEN NR_URNA_EFETIVADA BETWEEN 1220501 AND 1345500 THEN 2010 \n",
        "                                    WHEN NR_URNA_EFETIVADA BETWEEN 1368501 AND 1370500 THEN 2011\n",
        "                                    WHEN NR_URNA_EFETIVADA BETWEEN 1600000 AND 1650000 THEN 2011\n",
        "                                    WHEN NR_URNA_EFETIVADA BETWEEN 1650001 AND 1701000 THEN 2013\n",
        "                                    WHEN NR_URNA_EFETIVADA BETWEEN 1750000 AND 1950000 THEN 2015\n",
        "                                    WHEN NR_URNA_EFETIVADA BETWEEN 2000000 AND 2250000 THEN 2020\n",
        "                                    ELSE 1 END'''))\\\n",
        "            .withColumn(\"dh_geracao\", expr(\"TO_TIMESTAMP(CONCAT_WS(' ', DT_GERACAO, HH_GERACAO), 'dd/MM/yyyy HH:mm:ss')\"))\\\n",
        "            .withColumn(\"dh_emissao_bu\", expr(\"TO_TIMESTAMP(DT_EMISSAO_BU, 'dd/MM/yyyy HH:mm:ss')\"))\\\n",
        "            .withColumn(\"dh_bu_recebido\", expr(\"TO_TIMESTAMP(DT_BU_RECEBIDO, 'dd/MM/yyyy HH:mm:ss')\"))\\\n",
        "            .withColumn(\"dh_abertura\", expr(\"TO_TIMESTAMP(DT_ABERTURA, 'dd/MM/yyyy HH:mm:ss')\"))\\\n",
        "            .withColumn(\"dh_encerramento\", expr(\"TO_TIMESTAMP(DT_ENCERRAMENTO, 'dd/MM/yyyy HH:mm:ss')\"))\\\n",
        "            .withColumn(\"regiao\", expr('''CASE\n",
        "                                            WHEN SG_UF IN('SP', 'RJ', 'ES', 'MG') THEN 'SE'\n",
        "                                            WHEN SG_UF IN('RS', 'SC', 'PR') THEN 'S'\n",
        "                                            WHEN SG_UF IN('MT', 'MS', 'DF', 'GO') THEN 'CO'\n",
        "                                            WHEN SG_UF IN('AM', 'PA', 'AP', 'RO', 'RR', 'TO', 'AC') THEN 'N'\n",
        "                                            WHEN SG_UF = 'ZZ' THEN 'ZZ'\n",
        "                                            ELSE 'NE'\n",
        "                                           END as regiao'''))\\\n",
        "            .drop(\"ANO_ELEICAO\")\\\n",
        "            .drop(\"NM_TIPO_ELEICAO\")\\\n",
        "            .drop(\"CD_TIPO_ELEICAO\")\\\n",
        "            .drop(\"DT_PLEITO\")\\\n",
        "            .drop(\"NR_TURNO\")\\\n",
        "            .drop(\"CD_PLEITO\")\\\n",
        "            .drop(\"CD_ELEICAO\")\\\n",
        "            .drop(\"DS_ELEICAO\")\\\n",
        "            .drop(\"NR_PARTIDO\")\\\n",
        "            .drop(\"NM_PARTIDO\")\\\n",
        "            .drop(\"DS_TIPO_URNA\")\\\n",
        "            .drop(\"CD_CARGO_PERGUNTA\")\\\n",
        "            .drop(\"DS_CARGO_PERGUNTA\")\\\n",
        "            .drop(\"DT_CARGA_URNA_EFETIVADA\")\\\n",
        "            .drop(\"DS_CARGO_PERGUNTA_SECAO\")\\\n",
        "            .drop(\"SG_PARTIDO\")\\\n",
        "            .drop(\"NR_URNA_EFETIVADA\")\\\n",
        "            .drop(\"NM_VOTAVEL\")\\\n",
        "            .drop(\"CD_FLASHCARD_URNA_EFETIVADA\")\\\n",
        "            .drop(\"CD_CARGA_1_URNA_EFETIVADA\")\\\n",
        "            .drop(\"CD_CARGA_2_URNA_EFETIVADA\")\\\n",
        "            .drop(\"CD_TIPO_VOTAVEL\")\\\n",
        "            .drop(\"DT_GERACAO\")\\\n",
        "            .drop(\"HH_GERACAO\")\\\n",
        "            .drop(\"DT_EMISSAO_BU\")\\\n",
        "            .drop(\"DT_BU_RECEBIDO\")\\\n",
        "            .drop(\"DT_ABERTURA\")\\\n",
        "            .drop(\"DT_ENCERRAMENTO\")\\\n",
        "            .repartition(\"urna_id\")\n",
        "\n",
        "    \n",
        "vs_t = vs.filter(\"NR_TURNO = 2\")\\\n",
        "            .withColumn(\"urna_id\", concat_ws(\"-\", col(\"CD_MUNICIPIO\"), col(\"NR_ZONA\"), col(\"NR_SECAO\")))\\\n",
        "            .repartition(\"urna_id\")\n",
        "\n",
        "ceft_t = ceft.withColumn(\"urna_id\", concat_ws(\"-\", col(\"CD_MUNICIPIO\"), col(\"NR_ZONA\"), col(\"NR_SECAO\")))\\\n",
        "            .withColumn(\"dh_carga_urna_esperada\", expr(\"TO_TIMESTAMP(DT_CARGA_URNA_ESPERADA, 'dd/MM/yyyy HH:mm')\"))\\\n",
        "            .withColumn(\"dh_carga_urna_efetivada\", expr(\"TO_TIMESTAMP(DT_CARGA_URNA_EFETIVADA, 'dd/MM/yyyy HH:mm')\"))\\\n",
        "            .withColumn(\"dh_reco_urna_esperada\", expr(\"TO_TIMESTAMP(DT_RECO_URNA_ESPERADA, 'dd/MM/yyyy HH:mm')\"))\\\n",
        "            .withColumn(\"dh_reco_urna_efetivada\", expr(\"TO_TIMESTAMP(DT_RECO_URNA_EFETIVADA, 'dd/MM/yyyy HH:mm')\"))\\\n",
        "            .repartition(\"urna_id\")\n",
        "\n",
        "vs_t.createOrReplaceTempView(\"vs\")\n",
        "bweb_t.createOrReplaceTempView(\"bweb\")\n",
        "ceft_t.createOrReplaceTempView(\"ceft\")\n",
        "\n",
        "votacao2t = spark.sql('''\n",
        "            SELECT bweb.*, \n",
        "                vs.NM_LOCAL_VOTACAO as local_votacao, \n",
        "                vs.DS_LOCAL_VOTACAO_ENDERECO as endereco,\n",
        "                ceft.dh_carga_urna_esperada,\n",
        "                ceft.dh_carga_urna_efetivada,\n",
        "                ceft.dh_reco_urna_esperada,\n",
        "                ceft.dh_reco_urna_efetivada,\n",
        "                ceft.NR_URNA_EFETIVADA as urna_efetivada,\n",
        "                ceft.NR_URNA_ESPERADA as urna_esperada,\n",
        "                CAST(ceft.CD_CARGA_URNA_ESPERADA as string) as carga_urna_esperada,\n",
        "                CAST(ceft.CD_CARGA_1_URNA_ESPERADA as string) as carga_1_urna_esperada,\n",
        "                CAST(ceft.CD_CARGA_2_URNA_ESPERADA as string) as carga_2_urna_esperada,\n",
        "                CAST(ceft.CD_CARGA_URNA_EFETIVADA as string) as carga_urna_efetivada,\n",
        "                CAST(ceft.CD_CARGA_1_URNA_EFETIVADA as string) as carga_1_urna_efetivada,\n",
        "                CAST(ceft.CD_CARGA_2_URNA_EFETIVADA as string) as carga_2_urna_efetivada,\n",
        "                CAST(ceft.CD_FLASHCARD_URNA_ESPERADA as string) as flashcard_urna_esperada,\n",
        "                CAST( ceft.CD_FLASHCARD_URNA_EFETIVADA as string) as flashcard_urna_efetivada,\n",
        "                ceft.DS_ORIGEM_VOTO as ds_origem_voto,\n",
        "                IF(ceft.DS_DIVERGENCIA = '#NULO#', 0, 1) as urna_contingencia,\n",
        "                CASE ceft.CD_ORIGEM_VOTO\n",
        "                    WHEN 'U' THEN 0\n",
        "                    WHEN 'C' THEN 1\n",
        "                    WHEN 'R' THEN 2\n",
        "                    WHEN 'B' THEN 3\n",
        "                END as origem_voto\n",
        "                FROM bweb \n",
        "                INNER JOIN vs ON vs.urna_id = bweb.urna_id AND vs.NR_VOTAVEL = bweb.NR_VOTAVEL\n",
        "                LEFT JOIN ceft ON bweb.urna_id = ceft.urna_id\n",
        "                ''').repartition(\"urna_id\")\n",
        "\n",
        "votacao2t.printSchema()\n",
        "votacao2t.unpersist()\n",
        "votacao2t.persist()\n",
        "votacao2t.createOrReplaceTempView(\"v2t\")\n",
        "votacao2t.count()\n"
      ]
    },
    {
      "cell_type": "markdown",
      "id": "3582ff8d",
      "metadata": {
        "id": "3582ff8d"
      },
      "source": [
        "## AGRUPAMENTO DE DADOS E AJUSTES FINAIS\n",
        "\n",
        "Nessa etapa, agrupamos os dados por urna_id para termos os dados por seção e começarmos a analisar o comportamento de cada seção no segundo turno.\n",
        "\n",
        "Na query SQL abaixo são feitas várias coisas, dentre elas:\n",
        "\n",
        "1. Ajuste no campo de seções agregadas, que serve para saber quais seções foram agregadas a outras\n",
        "2. Horizontalizar os votos de L, B, Brancos e Nulos, bem como criando campos calculados de votos divididos por abstenções, taxa de abstenções, taxas de não habilitados biometria e outros\n",
        "3. Para verificar em que seções o BU foi emitido após o horário de encerramento, tivemos de ajustar a consulta para considerar o fuso horário de cada local do país. No Amazonas existem algumas cidades cujo fuso horário é igual ao do Acre. Todos os ajustes foram realizados levando em consideração BUs emitidos 10 minutos após o encerramento normal. Isso porque é normal ter algum atraso em seções que encerraram no horário. Portanto, nesta análise, só levaremos em consideração a emissão do BU após o horário quando passar de 10 minutos do encerramento de cada local.\n",
        "\n",
        "Iremos também persistir esse dataframe na memória para facilitar o processamento dos próximos passos."
      ]
    },
    {
      "cell_type": "code",
      "execution_count": null,
      "id": "f960ae71",
      "metadata": {
        "id": "f960ae71"
      },
      "outputs": [],
      "source": [
        "#spark.sql(\"DESC v2t\").show(1000)\n",
        "\n",
        "v2t_grouped = spark.sql('''\n",
        "           SELECT FIRST(dh_geracao) as dt_geracao,\n",
        "            FIRST(SG_UF) as uf, FIRST(NM_MUNICIPIO) as cidade, \n",
        "            FIRST(NR_ZONA) as zona, FIRST(NR_SECAO) as secao,\n",
        "            FIRST(NR_LOCAL_VOTACAO) as local_votacao_id,\n",
        "            FIRST(CD_MUNICIPIO) as cidade_id,\n",
        "            FIRST(urna_id) as urna_id, FIRST(zona_id) as zona_id,\n",
        "            FIRST(regiao) as regiao,\n",
        "            MAX(dh_emissao_bu) as dt_emissao_bu,\n",
        "            MAX(dh_bu_recebido) as dt_bu_recebido,\n",
        "            MAX(dh_abertura) as dt_abertura,\n",
        "            MAX(dh_encerramento) as dt_encerramento,\n",
        "            FIRST(TO_UNIX_TIMESTAMP(dh_bu_recebido)) - FIRST(TO_UNIX_TIMESTAMP(dh_emissao_bu)) as segundos_emissao_bu_recebimento,\n",
        "            FIRST(TO_UNIX_TIMESTAMP(dh_abertura)) - FIRST(TO_UNIX_TIMESTAMP(dh_encerramento)) as segundos_abertura_encerramento,\n",
        "            FIRST(dh_carga_urna_esperada) as dt_carga_urna_esperada,\n",
        "            FIRST(dh_carga_urna_efetivada) as dt_carga_urna_efetivada,\n",
        "            FIRST(NR_JUNTA_APURADORA) as junta_apuradora,\n",
        "            FIRST(NR_TURMA_APURADORA) as turma_apuradora,\n",
        "            IF(FIRST(DS_AGREGADAS) != '#NULO#', \n",
        "                        FIRST(DS_AGREGADAS), \n",
        "                        NULL) as secoes_agregadas,\n",
        "            IF(FIRST(DS_AGREGADAS) != '#NULO#', \n",
        "                        SIZE(SPLIT(FIRST(DS_AGREGADAS), ' / ')), \n",
        "                        0) as total_secoes_agregadas,\n",
        "            ARRAY_JOIN(COLLECT_SET(modelo), ',') as modelos_urnas,\n",
        "            FIRST(modelo) as modelo,\n",
        "            IF(FIRST(modelo) = 2020, 1, 0) as modelo_2020,\n",
        "            FIRST(urna_efetivada) as urna_efetivada,\n",
        "            FIRST(urna_esperada) as urna_esperada,\n",
        "            FIRST(flashcard_urna_esperada) as flashcard_urna_esperada,\n",
        "            FIRST(flashcard_urna_efetivada) as flashcard_urna_efetivada,\n",
        "            FIRST(carga_1_urna_esperada) as carga_1_urna_esperada,\n",
        "            FIRST(carga_1_urna_efetivada) as carga_1_urna_efetivada,\n",
        "            FIRST(carga_2_urna_esperada) as carga_2_urna_esperada,\n",
        "            FIRST(carga_2_urna_efetivada) as carga_2_urna_efetivada,\n",
        "            FIRST(dh_reco_urna_esperada) as dt_reco_urna_esperada,\n",
        "            FIRST(dh_reco_urna_efetivada) as dt_reco_urna_efetivada,\n",
        "            FIRST(local_votacao) as local_votacao,\n",
        "            FIRST(endereco) as endereco,\n",
        "            FIRST(origem_voto) as origem_voto,\n",
        "            FIRST(urna_contingencia) as urna_contingencia,\n",
        "            FIRST(QT_APTOS) as aptos,\n",
        "            FIRST(QT_ELEITORES_BIOMETRIA_NH) as nao_habilitados_biometria,\n",
        "            SUM(IF(NR_VOTAVEL = '13', QT_VOTOS, 0)) as lula,\n",
        "            SUM(IF(NR_VOTAVEL = '22', QT_VOTOS, 0)) as bolsonaro,\n",
        "            SUM(IF(NR_VOTAVEL = '95', QT_VOTOS, 0)) as brancos,\n",
        "            SUM(IF(NR_VOTAVEL = '96', QT_VOTOS, 0)) as nulos,\n",
        "            IF(SUM(IF(NR_VOTAVEL = '13', QT_VOTOS, 0)) > SUM(IF(NR_VOTAVEL = '22', QT_VOTOS, 0)), 1, 0) as lulavence,\n",
        "            IF(SUM(IF(NR_VOTAVEL = '13', QT_VOTOS, 0)) < SUM(IF(NR_VOTAVEL = '22', QT_VOTOS, 0)), 1, 0) as bolsonarovence,\n",
        "            IF(SUM(IF(NR_VOTAVEL = '13', QT_VOTOS, 0)) = SUM(IF(NR_VOTAVEL = '22', QT_VOTOS, 0)), 1, 0) as empate,\n",
        "            SUM(IF(NR_VOTAVEL = '13', QT_VOTOS, 0)) / FIRST(QT_APTOS) as lula_por_aptos,\n",
        "            SUM(IF(NR_VOTAVEL = '22', QT_VOTOS, 0)) / FIRST(QT_APTOS) as bolsonaro_por_aptos,\n",
        "            SUM(IF(NR_VOTAVEL = '95', QT_VOTOS, 0)) / FIRST(QT_APTOS) as brancos_por_aptos,\n",
        "            SUM(IF(NR_VOTAVEL = '96', QT_VOTOS, 0)) / FIRST(QT_APTOS) as nulos_por_aptos,\n",
        "            MAX(IF((dh_emissao_bu > '2022-10-30 17:10:00' AND SG_UF IN ('SP', 'RJ', 'MG', 'ES', 'SC', 'PR','RS','GO','PA','AP','DF','TO','BA','PE','CE','MA','PI','SE','RN','PB','AL'))\n",
        "                     OR (dh_emissao_bu > '2022-10-30 16:10:00' AND SG_UF IN ('MT', 'MS', 'AM', 'RR', 'RO') AND CD_MUNICIPIO NOT IN(2917, 2054, 2135, 2151, 2291, 2313, 2020, 2399, 98370, 2712, 2766))\n",
        "                     OR (dh_emissao_bu > '2002-10-30 15:10:00' AND (SG_UF = 'AC' OR CD_MUNICIPIO IN(2917, 2054, 2135, 2151, 2291, 2313, 2020, 2399, 98370, 2712, 2766))), 1, 0)) as emissao_bu_pos_encerramento,\n",
        "            FIRST(QT_ABSTENCOES) / FIRST (QT_APTOS) as abstencoes_por_aptos,\n",
        "            FIRST(QT_COMPARECIMENTO) / FIRST (QT_APTOS) as tx_abstencao,\n",
        "            FIRST(QT_ELEITORES_BIOMETRIA_NH) / FIRST(QT_APTOS) as tx_nao_habilitados_biometria,\n",
        "            FIRST(QT_COMPARECIMENTO) as comparecimentos,\n",
        "            FIRST(QT_ABSTENCOES) as abstencoes\n",
        "            FROM v2t\n",
        "            GROUP BY urna_id\n",
        "            ''')\n",
        "\n",
        "\n",
        "\n",
        "#v2t_grouped.unpersist()\n",
        "#v2t_grouped.persist()\n",
        "v2t_grouped.count()\n",
        "v2t_grouped.createOrReplaceTempView(\"v\")"
      ]
    },
    {
      "cell_type": "code",
      "execution_count": null,
      "id": "9cfecf9b",
      "metadata": {
        "id": "9cfecf9b"
      },
      "outputs": [],
      "source": [
        "# Lê os dados de mesários filtrando apenas dados do segundo turno\n",
        "mesarios = spark.read.csv(\n",
        "                path + \"/Mesarios/*_BRASIL.csv\", \n",
        "                header=True, \n",
        "                inferSchema=True, \n",
        "                encoding=\"ISO-8859-1\", \n",
        "                sep=\";\")\\\n",
        "            .filter(\"NR_TURNO = 2\")"
      ]
    },
    {
      "cell_type": "code",
      "execution_count": null,
      "id": "4501504e",
      "metadata": {
        "id": "4501504e",
        "outputId": "844152c7-69c9-42bd-8786-3ecd501286e3",
        "colab": {
          "base_uri": "https://localhost:8080/"
        }
      },
      "outputs": [
        {
          "output_type": "stream",
          "name": "stdout",
          "text": [
            "root\n",
            " |-- DT_GERACAO: string (nullable = true)\n",
            " |-- HH_GERACAO: timestamp (nullable = true)\n",
            " |-- AA_ELEICAO: integer (nullable = true)\n",
            " |-- NR_TURNO: integer (nullable = true)\n",
            " |-- SG_UF: string (nullable = true)\n",
            " |-- CD_MUNICIPIO: integer (nullable = true)\n",
            " |-- NM_MUNICIPIO: string (nullable = true)\n",
            " |-- NR_ZONA: integer (nullable = true)\n",
            " |-- CD_GENERO: integer (nullable = true)\n",
            " |-- DS_GENERO: string (nullable = true)\n",
            " |-- CD_ESTADO_CIVIL: integer (nullable = true)\n",
            " |-- DS_ESTADO_CIVIL: string (nullable = true)\n",
            " |-- CD_FAIXA_ETARIA: integer (nullable = true)\n",
            " |-- DS_FAIXA_ETARIA: string (nullable = true)\n",
            " |-- CD_GRAU_ESCOLARIDADE: integer (nullable = true)\n",
            " |-- DS_GRAU_ESCOLARIDADE: string (nullable = true)\n",
            " |-- TP_CONVOCACAO: string (nullable = true)\n",
            " |-- TP_COMPARECIMENTO: string (nullable = true)\n",
            " |-- QT_MESARIOS_PERFIL: integer (nullable = true)\n",
            "\n"
          ]
        }
      ],
      "source": [
        "#Mostra o schema\n",
        "mesarios.printSchema()"
      ]
    },
    {
      "cell_type": "code",
      "execution_count": null,
      "id": "9437c625",
      "metadata": {
        "id": "9437c625"
      },
      "outputs": [],
      "source": [
        "#Cria view dos mesarios para consultas\n",
        "mesarios.createOrReplaceTempView(\"mesarios\")"
      ]
    },
    {
      "cell_type": "code",
      "execution_count": null,
      "id": "ef62374d",
      "metadata": {
        "id": "ef62374d",
        "outputId": "7fdf2a1d-2fc4-48da-f5ef-73e22a0467bf",
        "colab": {
          "base_uri": "https://localhost:8080/",
          "height": 112
        }
      },
      "outputs": [
        {
          "output_type": "execute_result",
          "data": {
            "text/plain": [
              "   sum(QT_MESARIOS_PERFIL) TP_COMPARECIMENTO\n",
              "0                  1855493   Comparecimentos\n",
              "1                    25536         Ausências"
            ],
            "text/html": [
              "\n",
              "  <div id=\"df-e92b5b8e-a799-43b8-988a-ddfb25b2f740\">\n",
              "    <div class=\"colab-df-container\">\n",
              "      <div>\n",
              "<style scoped>\n",
              "    .dataframe tbody tr th:only-of-type {\n",
              "        vertical-align: middle;\n",
              "    }\n",
              "\n",
              "    .dataframe tbody tr th {\n",
              "        vertical-align: top;\n",
              "    }\n",
              "\n",
              "    .dataframe thead th {\n",
              "        text-align: right;\n",
              "    }\n",
              "</style>\n",
              "<table border=\"1\" class=\"dataframe\">\n",
              "  <thead>\n",
              "    <tr style=\"text-align: right;\">\n",
              "      <th></th>\n",
              "      <th>sum(QT_MESARIOS_PERFIL)</th>\n",
              "      <th>TP_COMPARECIMENTO</th>\n",
              "    </tr>\n",
              "  </thead>\n",
              "  <tbody>\n",
              "    <tr>\n",
              "      <th>0</th>\n",
              "      <td>1855493</td>\n",
              "      <td>Comparecimentos</td>\n",
              "    </tr>\n",
              "    <tr>\n",
              "      <th>1</th>\n",
              "      <td>25536</td>\n",
              "      <td>Ausências</td>\n",
              "    </tr>\n",
              "  </tbody>\n",
              "</table>\n",
              "</div>\n",
              "      <button class=\"colab-df-convert\" onclick=\"convertToInteractive('df-e92b5b8e-a799-43b8-988a-ddfb25b2f740')\"\n",
              "              title=\"Convert this dataframe to an interactive table.\"\n",
              "              style=\"display:none;\">\n",
              "        \n",
              "  <svg xmlns=\"http://www.w3.org/2000/svg\" height=\"24px\"viewBox=\"0 0 24 24\"\n",
              "       width=\"24px\">\n",
              "    <path d=\"M0 0h24v24H0V0z\" fill=\"none\"/>\n",
              "    <path d=\"M18.56 5.44l.94 2.06.94-2.06 2.06-.94-2.06-.94-.94-2.06-.94 2.06-2.06.94zm-11 1L8.5 8.5l.94-2.06 2.06-.94-2.06-.94L8.5 2.5l-.94 2.06-2.06.94zm10 10l.94 2.06.94-2.06 2.06-.94-2.06-.94-.94-2.06-.94 2.06-2.06.94z\"/><path d=\"M17.41 7.96l-1.37-1.37c-.4-.4-.92-.59-1.43-.59-.52 0-1.04.2-1.43.59L10.3 9.45l-7.72 7.72c-.78.78-.78 2.05 0 2.83L4 21.41c.39.39.9.59 1.41.59.51 0 1.02-.2 1.41-.59l7.78-7.78 2.81-2.81c.8-.78.8-2.07 0-2.86zM5.41 20L4 18.59l7.72-7.72 1.47 1.35L5.41 20z\"/>\n",
              "  </svg>\n",
              "      </button>\n",
              "      \n",
              "  <style>\n",
              "    .colab-df-container {\n",
              "      display:flex;\n",
              "      flex-wrap:wrap;\n",
              "      gap: 12px;\n",
              "    }\n",
              "\n",
              "    .colab-df-convert {\n",
              "      background-color: #E8F0FE;\n",
              "      border: none;\n",
              "      border-radius: 50%;\n",
              "      cursor: pointer;\n",
              "      display: none;\n",
              "      fill: #1967D2;\n",
              "      height: 32px;\n",
              "      padding: 0 0 0 0;\n",
              "      width: 32px;\n",
              "    }\n",
              "\n",
              "    .colab-df-convert:hover {\n",
              "      background-color: #E2EBFA;\n",
              "      box-shadow: 0px 1px 2px rgba(60, 64, 67, 0.3), 0px 1px 3px 1px rgba(60, 64, 67, 0.15);\n",
              "      fill: #174EA6;\n",
              "    }\n",
              "\n",
              "    [theme=dark] .colab-df-convert {\n",
              "      background-color: #3B4455;\n",
              "      fill: #D2E3FC;\n",
              "    }\n",
              "\n",
              "    [theme=dark] .colab-df-convert:hover {\n",
              "      background-color: #434B5C;\n",
              "      box-shadow: 0px 1px 3px 1px rgba(0, 0, 0, 0.15);\n",
              "      filter: drop-shadow(0px 1px 2px rgba(0, 0, 0, 0.3));\n",
              "      fill: #FFFFFF;\n",
              "    }\n",
              "  </style>\n",
              "\n",
              "      <script>\n",
              "        const buttonEl =\n",
              "          document.querySelector('#df-e92b5b8e-a799-43b8-988a-ddfb25b2f740 button.colab-df-convert');\n",
              "        buttonEl.style.display =\n",
              "          google.colab.kernel.accessAllowed ? 'block' : 'none';\n",
              "\n",
              "        async function convertToInteractive(key) {\n",
              "          const element = document.querySelector('#df-e92b5b8e-a799-43b8-988a-ddfb25b2f740');\n",
              "          const dataTable =\n",
              "            await google.colab.kernel.invokeFunction('convertToInteractive',\n",
              "                                                     [key], {});\n",
              "          if (!dataTable) return;\n",
              "\n",
              "          const docLinkHtml = 'Like what you see? Visit the ' +\n",
              "            '<a target=\"_blank\" href=https://colab.research.google.com/notebooks/data_table.ipynb>data table notebook</a>'\n",
              "            + ' to learn more about interactive tables.';\n",
              "          element.innerHTML = '';\n",
              "          dataTable['output_type'] = 'display_data';\n",
              "          await google.colab.output.renderOutput(dataTable, element);\n",
              "          const docLink = document.createElement('div');\n",
              "          docLink.innerHTML = docLinkHtml;\n",
              "          element.appendChild(docLink);\n",
              "        }\n",
              "      </script>\n",
              "    </div>\n",
              "  </div>\n",
              "  "
            ],
            "application/vnd.dataresource+json": {
              "schema": {
                "fields": [
                  {
                    "name": "index",
                    "type": "integer"
                  },
                  {
                    "name": "sum(QT_MESARIOS_PERFIL)",
                    "type": "integer"
                  },
                  {
                    "name": "TP_COMPARECIMENTO",
                    "type": "string"
                  }
                ],
                "primaryKey": [
                  "index"
                ],
                "pandas_version": "0.20.0"
              },
              "data": [
                {
                  "index": 0,
                  "sum(QT_MESARIOS_PERFIL)": 1855493,
                  "TP_COMPARECIMENTO": "Comparecimentos"
                },
                {
                  "index": 1,
                  "sum(QT_MESARIOS_PERFIL)": 25536,
                  "TP_COMPARECIMENTO": "Ausências"
                }
              ]
            }
          },
          "metadata": {},
          "execution_count": 49
        }
      ],
      "source": [
        "#Exibe o total de mesários por comparecimento\n",
        "spark.sql(\"SELECT sum(QT_MESARIOS_PERFIL), TP_COMPARECIMENTO FROM mesarios GROUP BY TP_COMPARECIMENTO\").toPandas()"
      ]
    },
    {
      "cell_type": "code",
      "execution_count": null,
      "id": "39590216",
      "metadata": {
        "id": "39590216"
      },
      "outputs": [],
      "source": [
        "# Cria o dataframe m contendo dados de mesários. Dados de mesários só podem ser agrupados por zona\n",
        "# Por isso criamos o campo zona_id\n",
        "\n",
        "m = spark.sql('''\n",
        "            SELECT \n",
        "            SUM(IF(TP_CONVOCACAO = 'Não voluntárias e não voluntários', QT_MESARIOS_PERFIL, 0)) as nvoluntarios_por_zona,\n",
        "            SUM(IF(TP_CONVOCACAO = 'Voluntárias e voluntários', QT_MESARIOS_PERFIL, 0)) as voluntarios_por_zona,\n",
        "            CONCAT_WS(\"-\", CD_MUNICIPIO, NR_ZONA) as zona_id\n",
        "            FROM mesarios\n",
        "            WHERE TP_COMPARECIMENTO = 'Comparecimentos'\n",
        "            AND NR_TURNO = 2\n",
        "            GROUP BY zona_id\n",
        "        ''')"
      ]
    },
    {
      "cell_type": "code",
      "execution_count": null,
      "id": "d71bc6cb",
      "metadata": {
        "id": "d71bc6cb"
      },
      "outputs": [],
      "source": [
        "# Cria a view m\n",
        "m.createOrReplaceTempView(\"m\")\n"
      ]
    },
    {
      "cell_type": "code",
      "execution_count": null,
      "id": "3c130ce4",
      "metadata": {
        "id": "3c130ce4"
      },
      "outputs": [],
      "source": [
        "# Cria o dataframe vm, juntando definitivamente os dados de CEFT, VS, BWEB e Mesarios\n",
        "vm = spark.sql('''\n",
        "            SELECT v.*, IF(m.nvoluntarios_por_zona IS NOT NULL, m.nvoluntarios_por_zona, 0) as nvoluntarios_por_zona, \n",
        "            IF (m.voluntarios_por_zona IS NOT NULL, m.voluntarios_por_zona, 0) as voluntarios_por_zona,\n",
        "            IF (m.voluntarios_por_zona IS NOT NULL, 1, 0) as zona_tem_voluntarios \n",
        "            FROM v LEFT JOIN m ON m.zona_id = v.zona_id\n",
        "        ''')"
      ]
    },
    {
      "cell_type": "code",
      "execution_count": null,
      "id": "9d2ec768",
      "metadata": {
        "id": "9d2ec768",
        "outputId": "0e0e9d5c-ac03-4860-c588-1fece1928be2",
        "colab": {
          "base_uri": "https://localhost:8080/"
        }
      },
      "outputs": [
        {
          "output_type": "execute_result",
          "data": {
            "text/plain": [
              "472028"
            ]
          },
          "metadata": {},
          "execution_count": 53
        }
      ],
      "source": [
        "# Valida a quantidade de registros. Tem que ser 472028\n",
        "vm.persist()\n",
        "vm.count()"
      ]
    },
    {
      "cell_type": "code",
      "execution_count": null,
      "id": "40bc40dc",
      "metadata": {
        "id": "40bc40dc"
      },
      "outputs": [],
      "source": [
        "# Caso não queira executar todo o notebook, execute a leitura a partir deste ponto, caso já tenha gravado.\n",
        "# Isso economiza muito tempo!\n",
        "\n",
        "#vm = spark.read.parquet(path + \"/Votacao/v2t_parquet\")\n",
        "#vm.unpersist()\n",
        "#vm.persist()"
      ]
    },
    {
      "cell_type": "code",
      "execution_count": null,
      "id": "95c5b131",
      "metadata": {
        "id": "95c5b131",
        "outputId": "caa0c9ce-75b6-40ed-abfb-9dad89a322c6",
        "colab": {
          "base_uri": "https://localhost:8080/",
          "height": 424
        }
      },
      "outputs": [
        {
          "output_type": "execute_result",
          "data": {
            "text/plain": [
              "        dt_bu_recebido       dt_emissao_bu dt_geracao         dt_abertura  \\\n",
              "0  2022-10-30 18:35:43 2022-10-30 17:01:35        NaT 2022-10-30 08:00:01   \n",
              "1  2022-10-30 18:35:45 2022-10-30 17:02:21        NaT 2022-10-30 08:00:01   \n",
              "2  2022-10-30 18:35:58 2022-10-30 17:02:48        NaT 2022-10-30 08:00:01   \n",
              "3  2022-10-30 18:37:01 2022-10-30 17:03:15        NaT 2022-10-30 08:00:01   \n",
              "4  2022-10-30 18:35:56 2022-10-30 17:09:52        NaT 2022-10-30 08:00:01   \n",
              "..                 ...                 ...        ...                 ...   \n",
              "95 2022-10-30 17:50:35 2022-10-30 17:01:56        NaT 2022-10-30 08:00:01   \n",
              "96 2022-10-30 19:26:08 2022-10-30 17:01:15        NaT 2022-10-30 08:00:01   \n",
              "97 2022-10-30 19:00:30 2022-10-30 17:02:58        NaT 2022-10-30 08:00:01   \n",
              "98 2022-10-30 17:39:42 2022-10-30 17:04:31        NaT 2022-10-30 08:00:01   \n",
              "99 2022-10-30 20:06:32 2022-10-30 17:02:01        NaT 2022-10-30 08:00:12   \n",
              "\n",
              "       dt_encerramento  segundos_emissao_bu_recebimento  \n",
              "0  2022-10-30 17:01:07                             5648  \n",
              "1  2022-10-30 17:01:33                             5604  \n",
              "2  2022-10-30 17:01:39                             5590  \n",
              "3  2022-10-30 17:01:15                             5626  \n",
              "4  2022-10-30 17:07:38                             5164  \n",
              "..                 ...                              ...  \n",
              "95 2022-10-30 17:00:42                             2919  \n",
              "96 2022-10-30 17:00:08                             8693  \n",
              "97 2022-10-30 17:00:49                             7052  \n",
              "98 2022-10-30 17:00:58                             2111  \n",
              "99 2022-10-30 17:00:31                            11071  \n",
              "\n",
              "[100 rows x 6 columns]"
            ],
            "text/html": [
              "\n",
              "  <div id=\"df-38509ae3-9999-439c-88f3-a068285450bb\">\n",
              "    <div class=\"colab-df-container\">\n",
              "      <div>\n",
              "<style scoped>\n",
              "    .dataframe tbody tr th:only-of-type {\n",
              "        vertical-align: middle;\n",
              "    }\n",
              "\n",
              "    .dataframe tbody tr th {\n",
              "        vertical-align: top;\n",
              "    }\n",
              "\n",
              "    .dataframe thead th {\n",
              "        text-align: right;\n",
              "    }\n",
              "</style>\n",
              "<table border=\"1\" class=\"dataframe\">\n",
              "  <thead>\n",
              "    <tr style=\"text-align: right;\">\n",
              "      <th></th>\n",
              "      <th>dt_bu_recebido</th>\n",
              "      <th>dt_emissao_bu</th>\n",
              "      <th>dt_geracao</th>\n",
              "      <th>dt_abertura</th>\n",
              "      <th>dt_encerramento</th>\n",
              "      <th>segundos_emissao_bu_recebimento</th>\n",
              "    </tr>\n",
              "  </thead>\n",
              "  <tbody>\n",
              "    <tr>\n",
              "      <th>0</th>\n",
              "      <td>2022-10-30 18:35:43</td>\n",
              "      <td>2022-10-30 17:01:35</td>\n",
              "      <td>NaT</td>\n",
              "      <td>2022-10-30 08:00:01</td>\n",
              "      <td>2022-10-30 17:01:07</td>\n",
              "      <td>5648</td>\n",
              "    </tr>\n",
              "    <tr>\n",
              "      <th>1</th>\n",
              "      <td>2022-10-30 18:35:45</td>\n",
              "      <td>2022-10-30 17:02:21</td>\n",
              "      <td>NaT</td>\n",
              "      <td>2022-10-30 08:00:01</td>\n",
              "      <td>2022-10-30 17:01:33</td>\n",
              "      <td>5604</td>\n",
              "    </tr>\n",
              "    <tr>\n",
              "      <th>2</th>\n",
              "      <td>2022-10-30 18:35:58</td>\n",
              "      <td>2022-10-30 17:02:48</td>\n",
              "      <td>NaT</td>\n",
              "      <td>2022-10-30 08:00:01</td>\n",
              "      <td>2022-10-30 17:01:39</td>\n",
              "      <td>5590</td>\n",
              "    </tr>\n",
              "    <tr>\n",
              "      <th>3</th>\n",
              "      <td>2022-10-30 18:37:01</td>\n",
              "      <td>2022-10-30 17:03:15</td>\n",
              "      <td>NaT</td>\n",
              "      <td>2022-10-30 08:00:01</td>\n",
              "      <td>2022-10-30 17:01:15</td>\n",
              "      <td>5626</td>\n",
              "    </tr>\n",
              "    <tr>\n",
              "      <th>4</th>\n",
              "      <td>2022-10-30 18:35:56</td>\n",
              "      <td>2022-10-30 17:09:52</td>\n",
              "      <td>NaT</td>\n",
              "      <td>2022-10-30 08:00:01</td>\n",
              "      <td>2022-10-30 17:07:38</td>\n",
              "      <td>5164</td>\n",
              "    </tr>\n",
              "    <tr>\n",
              "      <th>...</th>\n",
              "      <td>...</td>\n",
              "      <td>...</td>\n",
              "      <td>...</td>\n",
              "      <td>...</td>\n",
              "      <td>...</td>\n",
              "      <td>...</td>\n",
              "    </tr>\n",
              "    <tr>\n",
              "      <th>95</th>\n",
              "      <td>2022-10-30 17:50:35</td>\n",
              "      <td>2022-10-30 17:01:56</td>\n",
              "      <td>NaT</td>\n",
              "      <td>2022-10-30 08:00:01</td>\n",
              "      <td>2022-10-30 17:00:42</td>\n",
              "      <td>2919</td>\n",
              "    </tr>\n",
              "    <tr>\n",
              "      <th>96</th>\n",
              "      <td>2022-10-30 19:26:08</td>\n",
              "      <td>2022-10-30 17:01:15</td>\n",
              "      <td>NaT</td>\n",
              "      <td>2022-10-30 08:00:01</td>\n",
              "      <td>2022-10-30 17:00:08</td>\n",
              "      <td>8693</td>\n",
              "    </tr>\n",
              "    <tr>\n",
              "      <th>97</th>\n",
              "      <td>2022-10-30 19:00:30</td>\n",
              "      <td>2022-10-30 17:02:58</td>\n",
              "      <td>NaT</td>\n",
              "      <td>2022-10-30 08:00:01</td>\n",
              "      <td>2022-10-30 17:00:49</td>\n",
              "      <td>7052</td>\n",
              "    </tr>\n",
              "    <tr>\n",
              "      <th>98</th>\n",
              "      <td>2022-10-30 17:39:42</td>\n",
              "      <td>2022-10-30 17:04:31</td>\n",
              "      <td>NaT</td>\n",
              "      <td>2022-10-30 08:00:01</td>\n",
              "      <td>2022-10-30 17:00:58</td>\n",
              "      <td>2111</td>\n",
              "    </tr>\n",
              "    <tr>\n",
              "      <th>99</th>\n",
              "      <td>2022-10-30 20:06:32</td>\n",
              "      <td>2022-10-30 17:02:01</td>\n",
              "      <td>NaT</td>\n",
              "      <td>2022-10-30 08:00:12</td>\n",
              "      <td>2022-10-30 17:00:31</td>\n",
              "      <td>11071</td>\n",
              "    </tr>\n",
              "  </tbody>\n",
              "</table>\n",
              "<p>100 rows × 6 columns</p>\n",
              "</div>\n",
              "      <button class=\"colab-df-convert\" onclick=\"convertToInteractive('df-38509ae3-9999-439c-88f3-a068285450bb')\"\n",
              "              title=\"Convert this dataframe to an interactive table.\"\n",
              "              style=\"display:none;\">\n",
              "        \n",
              "  <svg xmlns=\"http://www.w3.org/2000/svg\" height=\"24px\"viewBox=\"0 0 24 24\"\n",
              "       width=\"24px\">\n",
              "    <path d=\"M0 0h24v24H0V0z\" fill=\"none\"/>\n",
              "    <path d=\"M18.56 5.44l.94 2.06.94-2.06 2.06-.94-2.06-.94-.94-2.06-.94 2.06-2.06.94zm-11 1L8.5 8.5l.94-2.06 2.06-.94-2.06-.94L8.5 2.5l-.94 2.06-2.06.94zm10 10l.94 2.06.94-2.06 2.06-.94-2.06-.94-.94-2.06-.94 2.06-2.06.94z\"/><path d=\"M17.41 7.96l-1.37-1.37c-.4-.4-.92-.59-1.43-.59-.52 0-1.04.2-1.43.59L10.3 9.45l-7.72 7.72c-.78.78-.78 2.05 0 2.83L4 21.41c.39.39.9.59 1.41.59.51 0 1.02-.2 1.41-.59l7.78-7.78 2.81-2.81c.8-.78.8-2.07 0-2.86zM5.41 20L4 18.59l7.72-7.72 1.47 1.35L5.41 20z\"/>\n",
              "  </svg>\n",
              "      </button>\n",
              "      \n",
              "  <style>\n",
              "    .colab-df-container {\n",
              "      display:flex;\n",
              "      flex-wrap:wrap;\n",
              "      gap: 12px;\n",
              "    }\n",
              "\n",
              "    .colab-df-convert {\n",
              "      background-color: #E8F0FE;\n",
              "      border: none;\n",
              "      border-radius: 50%;\n",
              "      cursor: pointer;\n",
              "      display: none;\n",
              "      fill: #1967D2;\n",
              "      height: 32px;\n",
              "      padding: 0 0 0 0;\n",
              "      width: 32px;\n",
              "    }\n",
              "\n",
              "    .colab-df-convert:hover {\n",
              "      background-color: #E2EBFA;\n",
              "      box-shadow: 0px 1px 2px rgba(60, 64, 67, 0.3), 0px 1px 3px 1px rgba(60, 64, 67, 0.15);\n",
              "      fill: #174EA6;\n",
              "    }\n",
              "\n",
              "    [theme=dark] .colab-df-convert {\n",
              "      background-color: #3B4455;\n",
              "      fill: #D2E3FC;\n",
              "    }\n",
              "\n",
              "    [theme=dark] .colab-df-convert:hover {\n",
              "      background-color: #434B5C;\n",
              "      box-shadow: 0px 1px 3px 1px rgba(0, 0, 0, 0.15);\n",
              "      filter: drop-shadow(0px 1px 2px rgba(0, 0, 0, 0.3));\n",
              "      fill: #FFFFFF;\n",
              "    }\n",
              "  </style>\n",
              "\n",
              "      <script>\n",
              "        const buttonEl =\n",
              "          document.querySelector('#df-38509ae3-9999-439c-88f3-a068285450bb button.colab-df-convert');\n",
              "        buttonEl.style.display =\n",
              "          google.colab.kernel.accessAllowed ? 'block' : 'none';\n",
              "\n",
              "        async function convertToInteractive(key) {\n",
              "          const element = document.querySelector('#df-38509ae3-9999-439c-88f3-a068285450bb');\n",
              "          const dataTable =\n",
              "            await google.colab.kernel.invokeFunction('convertToInteractive',\n",
              "                                                     [key], {});\n",
              "          if (!dataTable) return;\n",
              "\n",
              "          const docLinkHtml = 'Like what you see? Visit the ' +\n",
              "            '<a target=\"_blank\" href=https://colab.research.google.com/notebooks/data_table.ipynb>data table notebook</a>'\n",
              "            + ' to learn more about interactive tables.';\n",
              "          element.innerHTML = '';\n",
              "          dataTable['output_type'] = 'display_data';\n",
              "          await google.colab.output.renderOutput(dataTable, element);\n",
              "          const docLink = document.createElement('div');\n",
              "          docLink.innerHTML = docLinkHtml;\n",
              "          element.appendChild(docLink);\n",
              "        }\n",
              "      </script>\n",
              "    </div>\n",
              "  </div>\n",
              "  "
            ],
            "application/vnd.dataresource+json": {
              "schema": {
                "fields": [
                  {
                    "name": "index",
                    "type": "integer"
                  },
                  {
                    "name": "dt_bu_recebido",
                    "type": "datetime"
                  },
                  {
                    "name": "dt_emissao_bu",
                    "type": "datetime"
                  },
                  {
                    "name": "dt_geracao",
                    "type": "datetime"
                  },
                  {
                    "name": "dt_abertura",
                    "type": "datetime"
                  },
                  {
                    "name": "dt_encerramento",
                    "type": "datetime"
                  },
                  {
                    "name": "segundos_emissao_bu_recebimento",
                    "type": "integer"
                  }
                ],
                "primaryKey": [
                  "index"
                ],
                "pandas_version": "0.20.0"
              },
              "data": [
                {
                  "index": 0,
                  "dt_bu_recebido": "2022-10-30T18:35:43.000Z",
                  "dt_emissao_bu": "2022-10-30T17:01:35.000Z",
                  "dt_geracao": null,
                  "dt_abertura": "2022-10-30T08:00:01.000Z",
                  "dt_encerramento": "2022-10-30T17:01:07.000Z",
                  "segundos_emissao_bu_recebimento": 5648
                },
                {
                  "index": 1,
                  "dt_bu_recebido": "2022-10-30T18:35:45.000Z",
                  "dt_emissao_bu": "2022-10-30T17:02:21.000Z",
                  "dt_geracao": null,
                  "dt_abertura": "2022-10-30T08:00:01.000Z",
                  "dt_encerramento": "2022-10-30T17:01:33.000Z",
                  "segundos_emissao_bu_recebimento": 5604
                },
                {
                  "index": 2,
                  "dt_bu_recebido": "2022-10-30T18:35:58.000Z",
                  "dt_emissao_bu": "2022-10-30T17:02:48.000Z",
                  "dt_geracao": null,
                  "dt_abertura": "2022-10-30T08:00:01.000Z",
                  "dt_encerramento": "2022-10-30T17:01:39.000Z",
                  "segundos_emissao_bu_recebimento": 5590
                },
                {
                  "index": 3,
                  "dt_bu_recebido": "2022-10-30T18:37:01.000Z",
                  "dt_emissao_bu": "2022-10-30T17:03:15.000Z",
                  "dt_geracao": null,
                  "dt_abertura": "2022-10-30T08:00:01.000Z",
                  "dt_encerramento": "2022-10-30T17:01:15.000Z",
                  "segundos_emissao_bu_recebimento": 5626
                },
                {
                  "index": 4,
                  "dt_bu_recebido": "2022-10-30T18:35:56.000Z",
                  "dt_emissao_bu": "2022-10-30T17:09:52.000Z",
                  "dt_geracao": null,
                  "dt_abertura": "2022-10-30T08:00:01.000Z",
                  "dt_encerramento": "2022-10-30T17:07:38.000Z",
                  "segundos_emissao_bu_recebimento": 5164
                },
                {
                  "index": 5,
                  "dt_bu_recebido": "2022-10-30T18:35:33.000Z",
                  "dt_emissao_bu": "2022-10-30T17:06:52.000Z",
                  "dt_geracao": null,
                  "dt_abertura": "2022-10-30T08:00:01.000Z",
                  "dt_encerramento": "2022-10-30T17:04:36.000Z",
                  "segundos_emissao_bu_recebimento": 5321
                },
                {
                  "index": 6,
                  "dt_bu_recebido": "2022-10-30T18:36:10.000Z",
                  "dt_emissao_bu": "2022-10-30T17:03:01.000Z",
                  "dt_geracao": null,
                  "dt_abertura": "2022-10-30T08:01:13.000Z",
                  "dt_encerramento": "2022-10-30T17:00:48.000Z",
                  "segundos_emissao_bu_recebimento": 5589
                },
                {
                  "index": 7,
                  "dt_bu_recebido": "2022-10-30T18:36:06.000Z",
                  "dt_emissao_bu": "2022-10-30T17:04:31.000Z",
                  "dt_geracao": null,
                  "dt_abertura": "2022-10-30T08:00:01.000Z",
                  "dt_encerramento": "2022-10-30T17:03:12.000Z",
                  "segundos_emissao_bu_recebimento": 5495
                },
                {
                  "index": 8,
                  "dt_bu_recebido": "2022-10-30T18:35:05.000Z",
                  "dt_emissao_bu": "2022-10-30T17:05:40.000Z",
                  "dt_geracao": null,
                  "dt_abertura": "2022-10-30T08:00:01.000Z",
                  "dt_encerramento": "2022-10-30T17:01:48.000Z",
                  "segundos_emissao_bu_recebimento": 5365
                },
                {
                  "index": 9,
                  "dt_bu_recebido": "2022-10-30T18:35:50.000Z",
                  "dt_emissao_bu": "2022-10-30T17:04:12.000Z",
                  "dt_geracao": null,
                  "dt_abertura": "2022-10-30T08:00:01.000Z",
                  "dt_encerramento": "2022-10-30T17:02:39.000Z",
                  "segundos_emissao_bu_recebimento": 5498
                },
                {
                  "index": 10,
                  "dt_bu_recebido": "2022-10-30T18:35:15.000Z",
                  "dt_emissao_bu": "2022-10-30T17:05:36.000Z",
                  "dt_geracao": null,
                  "dt_abertura": "2022-10-30T08:00:01.000Z",
                  "dt_encerramento": "2022-10-30T17:01:10.000Z",
                  "segundos_emissao_bu_recebimento": 5379
                },
                {
                  "index": 11,
                  "dt_bu_recebido": "2022-10-30T18:37:47.000Z",
                  "dt_emissao_bu": "2022-10-30T17:03:57.000Z",
                  "dt_geracao": null,
                  "dt_abertura": "2022-10-30T08:00:01.000Z",
                  "dt_encerramento": "2022-10-30T17:02:05.000Z",
                  "segundos_emissao_bu_recebimento": 5630
                },
                {
                  "index": 12,
                  "dt_bu_recebido": "2022-10-30T18:37:01.000Z",
                  "dt_emissao_bu": "2022-10-30T17:11:04.000Z",
                  "dt_geracao": null,
                  "dt_abertura": "2022-10-30T08:00:01.000Z",
                  "dt_encerramento": "2022-10-30T17:08:02.000Z",
                  "segundos_emissao_bu_recebimento": 5157
                },
                {
                  "index": 13,
                  "dt_bu_recebido": "2022-10-30T18:35:10.000Z",
                  "dt_emissao_bu": "2022-10-30T17:04:26.000Z",
                  "dt_geracao": null,
                  "dt_abertura": "2022-10-30T08:00:01.000Z",
                  "dt_encerramento": "2022-10-30T17:00:48.000Z",
                  "segundos_emissao_bu_recebimento": 5444
                },
                {
                  "index": 14,
                  "dt_bu_recebido": "2022-10-30T18:35:01.000Z",
                  "dt_emissao_bu": "2022-10-30T17:06:31.000Z",
                  "dt_geracao": null,
                  "dt_abertura": "2022-10-30T08:00:51.000Z",
                  "dt_encerramento": "2022-10-30T17:04:18.000Z",
                  "segundos_emissao_bu_recebimento": 5310
                },
                {
                  "index": 15,
                  "dt_bu_recebido": "2022-10-30T18:34:54.000Z",
                  "dt_emissao_bu": "2022-10-30T17:02:54.000Z",
                  "dt_geracao": null,
                  "dt_abertura": "2022-10-30T08:00:01.000Z",
                  "dt_encerramento": "2022-10-30T17:01:46.000Z",
                  "segundos_emissao_bu_recebimento": 5520
                },
                {
                  "index": 16,
                  "dt_bu_recebido": "2022-10-30T18:36:38.000Z",
                  "dt_emissao_bu": "2022-10-30T17:05:30.000Z",
                  "dt_geracao": null,
                  "dt_abertura": "2022-10-30T08:00:01.000Z",
                  "dt_encerramento": "2022-10-30T17:02:50.000Z",
                  "segundos_emissao_bu_recebimento": 5468
                },
                {
                  "index": 17,
                  "dt_bu_recebido": "2022-10-30T18:36:07.000Z",
                  "dt_emissao_bu": "2022-10-30T17:03:55.000Z",
                  "dt_geracao": null,
                  "dt_abertura": "2022-10-30T08:00:01.000Z",
                  "dt_encerramento": "2022-10-30T17:01:14.000Z",
                  "segundos_emissao_bu_recebimento": 5532
                },
                {
                  "index": 18,
                  "dt_bu_recebido": "2022-10-30T18:34:58.000Z",
                  "dt_emissao_bu": "2022-10-30T17:05:02.000Z",
                  "dt_geracao": null,
                  "dt_abertura": "2022-10-30T08:00:01.000Z",
                  "dt_encerramento": "2022-10-30T17:02:30.000Z",
                  "segundos_emissao_bu_recebimento": 5396
                },
                {
                  "index": 19,
                  "dt_bu_recebido": "2022-10-30T18:35:03.000Z",
                  "dt_emissao_bu": "2022-10-30T17:03:16.000Z",
                  "dt_geracao": null,
                  "dt_abertura": "2022-10-30T08:00:01.000Z",
                  "dt_encerramento": "2022-10-30T17:00:50.000Z",
                  "segundos_emissao_bu_recebimento": 5507
                },
                {
                  "index": 20,
                  "dt_bu_recebido": "2022-10-30T18:38:45.000Z",
                  "dt_emissao_bu": "2022-10-30T17:06:28.000Z",
                  "dt_geracao": null,
                  "dt_abertura": "2022-10-30T08:00:01.000Z",
                  "dt_encerramento": "2022-10-30T17:04:09.000Z",
                  "segundos_emissao_bu_recebimento": 5537
                },
                {
                  "index": 21,
                  "dt_bu_recebido": "2022-10-30T19:17:43.000Z",
                  "dt_emissao_bu": "2022-10-30T17:02:56.000Z",
                  "dt_geracao": null,
                  "dt_abertura": "2022-10-30T08:00:01.000Z",
                  "dt_encerramento": "2022-10-30T17:00:29.000Z",
                  "segundos_emissao_bu_recebimento": 8087
                },
                {
                  "index": 22,
                  "dt_bu_recebido": "2022-10-30T18:38:58.000Z",
                  "dt_emissao_bu": "2022-10-30T17:03:20.000Z",
                  "dt_geracao": null,
                  "dt_abertura": "2022-10-30T08:00:01.000Z",
                  "dt_encerramento": "2022-10-30T17:01:08.000Z",
                  "segundos_emissao_bu_recebimento": 5738
                },
                {
                  "index": 23,
                  "dt_bu_recebido": "2022-10-30T20:06:25.000Z",
                  "dt_emissao_bu": "2022-10-30T17:03:01.000Z",
                  "dt_geracao": null,
                  "dt_abertura": "2022-10-30T08:00:01.000Z",
                  "dt_encerramento": "2022-10-30T17:00:33.000Z",
                  "segundos_emissao_bu_recebimento": 11004
                },
                {
                  "index": 24,
                  "dt_bu_recebido": "2022-10-30T20:06:37.000Z",
                  "dt_emissao_bu": "2022-10-30T17:04:35.000Z",
                  "dt_geracao": null,
                  "dt_abertura": "2022-10-30T08:00:01.000Z",
                  "dt_encerramento": "2022-10-30T17:01:31.000Z",
                  "segundos_emissao_bu_recebimento": 10922
                },
                {
                  "index": 25,
                  "dt_bu_recebido": "2022-10-30T18:39:06.000Z",
                  "dt_emissao_bu": "2022-10-30T17:04:33.000Z",
                  "dt_geracao": null,
                  "dt_abertura": "2022-10-30T08:00:01.000Z",
                  "dt_encerramento": "2022-10-30T17:01:50.000Z",
                  "segundos_emissao_bu_recebimento": 5673
                },
                {
                  "index": 26,
                  "dt_bu_recebido": "2022-10-30T17:41:39.000Z",
                  "dt_emissao_bu": "2022-10-30T17:04:02.000Z",
                  "dt_geracao": null,
                  "dt_abertura": "2022-10-30T08:00:01.000Z",
                  "dt_encerramento": "2022-10-30T17:01:29.000Z",
                  "segundos_emissao_bu_recebimento": 2257
                },
                {
                  "index": 27,
                  "dt_bu_recebido": "2022-10-30T18:04:37.000Z",
                  "dt_emissao_bu": "2022-10-30T17:02:40.000Z",
                  "dt_geracao": null,
                  "dt_abertura": "2022-10-30T08:00:01.000Z",
                  "dt_encerramento": "2022-10-30T17:00:42.000Z",
                  "segundos_emissao_bu_recebimento": 3717
                },
                {
                  "index": 28,
                  "dt_bu_recebido": "2022-10-30T17:26:30.000Z",
                  "dt_emissao_bu": "2022-10-30T17:02:02.000Z",
                  "dt_geracao": null,
                  "dt_abertura": "2022-10-30T08:00:01.000Z",
                  "dt_encerramento": "2022-10-30T17:00:07.000Z",
                  "segundos_emissao_bu_recebimento": 1468
                },
                {
                  "index": 29,
                  "dt_bu_recebido": "2022-10-30T19:01:03.000Z",
                  "dt_emissao_bu": "2022-10-30T17:08:51.000Z",
                  "dt_geracao": null,
                  "dt_abertura": "2022-10-30T08:03:08.000Z",
                  "dt_encerramento": "2022-10-30T17:06:51.000Z",
                  "segundos_emissao_bu_recebimento": 6732
                },
                {
                  "index": 30,
                  "dt_bu_recebido": "2022-10-30T17:28:26.000Z",
                  "dt_emissao_bu": "2022-10-30T17:02:23.000Z",
                  "dt_geracao": null,
                  "dt_abertura": "2022-10-30T08:00:01.000Z",
                  "dt_encerramento": "2022-10-30T17:00:40.000Z",
                  "segundos_emissao_bu_recebimento": 1563
                },
                {
                  "index": 31,
                  "dt_bu_recebido": "2022-10-30T19:28:55.000Z",
                  "dt_emissao_bu": "2022-10-30T17:04:11.000Z",
                  "dt_geracao": null,
                  "dt_abertura": "2022-10-30T08:00:01.000Z",
                  "dt_encerramento": "2022-10-30T17:02:35.000Z",
                  "segundos_emissao_bu_recebimento": 8684
                },
                {
                  "index": 32,
                  "dt_bu_recebido": "2022-10-30T18:38:31.000Z",
                  "dt_emissao_bu": "2022-10-30T17:03:50.000Z",
                  "dt_geracao": null,
                  "dt_abertura": "2022-10-30T08:00:36.000Z",
                  "dt_encerramento": "2022-10-30T17:01:30.000Z",
                  "segundos_emissao_bu_recebimento": 5681
                },
                {
                  "index": 33,
                  "dt_bu_recebido": "2022-10-30T19:08:22.000Z",
                  "dt_emissao_bu": "2022-10-30T17:03:10.000Z",
                  "dt_geracao": null,
                  "dt_abertura": "2022-10-30T08:00:01.000Z",
                  "dt_encerramento": "2022-10-30T17:00:39.000Z",
                  "segundos_emissao_bu_recebimento": 7512
                },
                {
                  "index": 34,
                  "dt_bu_recebido": "2022-10-30T17:27:51.000Z",
                  "dt_emissao_bu": "2022-10-30T17:02:00.000Z",
                  "dt_geracao": null,
                  "dt_abertura": "2022-10-30T08:00:01.000Z",
                  "dt_encerramento": "2022-10-30T17:00:24.000Z",
                  "segundos_emissao_bu_recebimento": 1551
                },
                {
                  "index": 35,
                  "dt_bu_recebido": "2022-10-30T17:55:40.000Z",
                  "dt_emissao_bu": "2022-10-30T17:03:32.000Z",
                  "dt_geracao": null,
                  "dt_abertura": "2022-10-30T08:00:01.000Z",
                  "dt_encerramento": "2022-10-30T17:01:23.000Z",
                  "segundos_emissao_bu_recebimento": 3128
                },
                {
                  "index": 36,
                  "dt_bu_recebido": "2022-10-30T19:26:35.000Z",
                  "dt_emissao_bu": "2022-10-30T17:29:25.000Z",
                  "dt_geracao": null,
                  "dt_abertura": "2022-10-30T08:07:11.000Z",
                  "dt_encerramento": "2022-10-30T17:21:52.000Z",
                  "segundos_emissao_bu_recebimento": 7030
                },
                {
                  "index": 37,
                  "dt_bu_recebido": "2022-10-30T18:38:39.000Z",
                  "dt_emissao_bu": "2022-10-30T17:03:38.000Z",
                  "dt_geracao": null,
                  "dt_abertura": "2022-10-30T08:00:01.000Z",
                  "dt_encerramento": "2022-10-30T17:00:15.000Z",
                  "segundos_emissao_bu_recebimento": 5701
                },
                {
                  "index": 38,
                  "dt_bu_recebido": "2022-10-30T17:21:27.000Z",
                  "dt_emissao_bu": "2022-10-30T17:02:25.000Z",
                  "dt_geracao": null,
                  "dt_abertura": "2022-10-30T08:00:01.000Z",
                  "dt_encerramento": "2022-10-30T17:00:43.000Z",
                  "segundos_emissao_bu_recebimento": 1142
                },
                {
                  "index": 39,
                  "dt_bu_recebido": "2022-10-30T19:08:07.000Z",
                  "dt_emissao_bu": "2022-10-30T17:05:07.000Z",
                  "dt_geracao": null,
                  "dt_abertura": "2022-10-30T08:00:01.000Z",
                  "dt_encerramento": "2022-10-30T17:02:41.000Z",
                  "segundos_emissao_bu_recebimento": 7380
                },
                {
                  "index": 40,
                  "dt_bu_recebido": "2022-10-30T18:46:22.000Z",
                  "dt_emissao_bu": "2022-10-30T17:01:52.000Z",
                  "dt_geracao": null,
                  "dt_abertura": "2022-10-30T08:00:01.000Z",
                  "dt_encerramento": "2022-10-30T17:00:15.000Z",
                  "segundos_emissao_bu_recebimento": 6270
                },
                {
                  "index": 41,
                  "dt_bu_recebido": "2022-10-30T18:40:43.000Z",
                  "dt_emissao_bu": "2022-10-30T17:03:40.000Z",
                  "dt_geracao": null,
                  "dt_abertura": "2022-10-30T08:00:01.000Z",
                  "dt_encerramento": "2022-10-30T17:01:01.000Z",
                  "segundos_emissao_bu_recebimento": 5823
                },
                {
                  "index": 42,
                  "dt_bu_recebido": "2022-10-30T19:01:56.000Z",
                  "dt_emissao_bu": "2022-10-30T17:05:45.000Z",
                  "dt_geracao": null,
                  "dt_abertura": "2022-10-30T08:00:01.000Z",
                  "dt_encerramento": "2022-10-30T17:02:42.000Z",
                  "segundos_emissao_bu_recebimento": 6971
                },
                {
                  "index": 43,
                  "dt_bu_recebido": "2022-10-30T18:11:09.000Z",
                  "dt_emissao_bu": "2022-10-30T17:03:01.000Z",
                  "dt_geracao": null,
                  "dt_abertura": "2022-10-30T08:00:01.000Z",
                  "dt_encerramento": "2022-10-30T17:00:26.000Z",
                  "segundos_emissao_bu_recebimento": 4088
                },
                {
                  "index": 44,
                  "dt_bu_recebido": "2022-10-30T17:47:29.000Z",
                  "dt_emissao_bu": "2022-10-30T17:06:38.000Z",
                  "dt_geracao": null,
                  "dt_abertura": "2022-10-30T08:00:01.000Z",
                  "dt_encerramento": "2022-10-30T17:03:32.000Z",
                  "segundos_emissao_bu_recebimento": 2451
                },
                {
                  "index": 45,
                  "dt_bu_recebido": "2022-10-30T20:06:28.000Z",
                  "dt_emissao_bu": "2022-10-30T17:01:33.000Z",
                  "dt_geracao": null,
                  "dt_abertura": "2022-10-30T08:00:01.000Z",
                  "dt_encerramento": "2022-10-30T17:00:52.000Z",
                  "segundos_emissao_bu_recebimento": 11095
                },
                {
                  "index": 46,
                  "dt_bu_recebido": "2022-10-30T19:14:06.000Z",
                  "dt_emissao_bu": "2022-10-30T17:05:18.000Z",
                  "dt_geracao": null,
                  "dt_abertura": "2022-10-30T08:00:01.000Z",
                  "dt_encerramento": "2022-10-30T17:01:20.000Z",
                  "segundos_emissao_bu_recebimento": 7728
                },
                {
                  "index": 47,
                  "dt_bu_recebido": "2022-10-30T17:36:48.000Z",
                  "dt_emissao_bu": "2022-10-30T17:07:03.000Z",
                  "dt_geracao": null,
                  "dt_abertura": "2022-10-30T08:00:01.000Z",
                  "dt_encerramento": "2022-10-30T17:04:23.000Z",
                  "segundos_emissao_bu_recebimento": 1785
                },
                {
                  "index": 48,
                  "dt_bu_recebido": "2022-10-30T18:16:25.000Z",
                  "dt_emissao_bu": "2022-10-30T17:02:24.000Z",
                  "dt_geracao": null,
                  "dt_abertura": "2022-10-30T08:00:01.000Z",
                  "dt_encerramento": "2022-10-30T17:00:29.000Z",
                  "segundos_emissao_bu_recebimento": 4441
                },
                {
                  "index": 49,
                  "dt_bu_recebido": "2022-10-30T17:50:35.000Z",
                  "dt_emissao_bu": "2022-10-30T17:04:08.000Z",
                  "dt_geracao": null,
                  "dt_abertura": "2022-10-30T08:00:01.000Z",
                  "dt_encerramento": "2022-10-30T17:01:46.000Z",
                  "segundos_emissao_bu_recebimento": 2787
                },
                {
                  "index": 50,
                  "dt_bu_recebido": "2022-10-30T18:16:34.000Z",
                  "dt_emissao_bu": "2022-10-30T17:03:02.000Z",
                  "dt_geracao": null,
                  "dt_abertura": "2022-10-30T08:00:01.000Z",
                  "dt_encerramento": "2022-10-30T17:01:12.000Z",
                  "segundos_emissao_bu_recebimento": 4412
                },
                {
                  "index": 51,
                  "dt_bu_recebido": "2022-10-30T17:38:56.000Z",
                  "dt_emissao_bu": "2022-10-30T17:02:08.000Z",
                  "dt_geracao": null,
                  "dt_abertura": "2022-10-30T08:00:01.000Z",
                  "dt_encerramento": "2022-10-30T17:00:23.000Z",
                  "segundos_emissao_bu_recebimento": 2208
                },
                {
                  "index": 52,
                  "dt_bu_recebido": "2022-10-30T19:11:50.000Z",
                  "dt_emissao_bu": "2022-10-30T17:01:53.000Z",
                  "dt_geracao": null,
                  "dt_abertura": "2022-10-30T08:00:02.000Z",
                  "dt_encerramento": "2022-10-30T17:00:33.000Z",
                  "segundos_emissao_bu_recebimento": 7797
                },
                {
                  "index": 53,
                  "dt_bu_recebido": "2022-10-30T17:43:51.000Z",
                  "dt_emissao_bu": "2022-10-30T17:05:45.000Z",
                  "dt_geracao": null,
                  "dt_abertura": "2022-10-30T08:00:02.000Z",
                  "dt_encerramento": "2022-10-30T17:02:38.000Z",
                  "segundos_emissao_bu_recebimento": 2286
                },
                {
                  "index": 54,
                  "dt_bu_recebido": "2022-10-30T18:46:22.000Z",
                  "dt_emissao_bu": "2022-10-30T17:07:36.000Z",
                  "dt_geracao": null,
                  "dt_abertura": "2022-10-30T08:00:01.000Z",
                  "dt_encerramento": "2022-10-30T17:05:31.000Z",
                  "segundos_emissao_bu_recebimento": 5926
                },
                {
                  "index": 55,
                  "dt_bu_recebido": "2022-10-30T17:54:55.000Z",
                  "dt_emissao_bu": "2022-10-30T17:11:02.000Z",
                  "dt_geracao": null,
                  "dt_abertura": "2022-10-30T08:00:01.000Z",
                  "dt_encerramento": "2022-10-30T17:07:24.000Z",
                  "segundos_emissao_bu_recebimento": 2633
                },
                {
                  "index": 56,
                  "dt_bu_recebido": "2022-10-30T18:40:11.000Z",
                  "dt_emissao_bu": "2022-10-30T17:04:20.000Z",
                  "dt_geracao": null,
                  "dt_abertura": "2022-10-30T08:00:01.000Z",
                  "dt_encerramento": "2022-10-30T17:01:14.000Z",
                  "segundos_emissao_bu_recebimento": 5751
                },
                {
                  "index": 57,
                  "dt_bu_recebido": "2022-10-30T17:38:54.000Z",
                  "dt_emissao_bu": "2022-10-30T17:02:38.000Z",
                  "dt_geracao": null,
                  "dt_abertura": "2022-10-30T08:00:01.000Z",
                  "dt_encerramento": "2022-10-30T17:01:13.000Z",
                  "segundos_emissao_bu_recebimento": 2176
                },
                {
                  "index": 58,
                  "dt_bu_recebido": "2022-10-30T19:12:05.000Z",
                  "dt_emissao_bu": "2022-10-30T17:06:41.000Z",
                  "dt_geracao": null,
                  "dt_abertura": "2022-10-30T08:00:01.000Z",
                  "dt_encerramento": "2022-10-30T17:04:48.000Z",
                  "segundos_emissao_bu_recebimento": 7524
                },
                {
                  "index": 59,
                  "dt_bu_recebido": "2022-10-30T18:39:02.000Z",
                  "dt_emissao_bu": "2022-10-30T17:03:58.000Z",
                  "dt_geracao": null,
                  "dt_abertura": "2022-10-30T08:00:01.000Z",
                  "dt_encerramento": "2022-10-30T17:01:36.000Z",
                  "segundos_emissao_bu_recebimento": 5704
                }
              ]
            }
          },
          "metadata": {},
          "execution_count": 58
        }
      ],
      "source": [
        "# Mostra o Schema do novo dataframe\n",
        "vm.filter(\"dt_geracao is null\").select(\"dt_bu_recebido\", \"dt_emissao_bu\", \"dt_geracao\", \"dt_abertura\", \"dt_encerramento\", \"segundos_emissao_bu_recebimento\").limit(100).toPandas()\n"
      ]
    },
    {
      "cell_type": "code",
      "execution_count": null,
      "id": "e8669dfb-08b8-4ff7-9737-26fc96209f96",
      "metadata": {
        "id": "e8669dfb-08b8-4ff7-9737-26fc96209f96"
      },
      "outputs": [],
      "source": [
        "vm.orderBy(\"dt_bu_recebido\").repartition(20).write.parquet(path + \"/vm_new/\", mode=\"overwrite\")"
      ]
    },
    {
      "cell_type": "code",
      "source": [
        "!mkdir /content/drive/MyDrive/vm_new/\n",
        "!cp -r /content/vm_new/* /content/drive/MyDrive/vm_new/"
      ],
      "metadata": {
        "id": "qZ29FLFUSbTI"
      },
      "id": "qZ29FLFUSbTI",
      "execution_count": null,
      "outputs": []
    },
    {
      "cell_type": "code",
      "execution_count": null,
      "id": "814ce285-32ba-4ea9-ae76-0ea270a19d9a",
      "metadata": {
        "id": "814ce285-32ba-4ea9-ae76-0ea270a19d9a"
      },
      "outputs": [],
      "source": [
        "vm = spark.read.parquet(path + \"/vm/\").repartition(12)"
      ]
    },
    {
      "cell_type": "code",
      "source": [
        "vm.printSchema()\n",
        "vm.unpersist()\n",
        "vm.persist()\n",
        "vm.count()"
      ],
      "metadata": {
        "colab": {
          "base_uri": "https://localhost:8080/"
        },
        "id": "v35gtcDn1le_",
        "outputId": "bb6dcbda-22b4-4383-e378-e5c7905abaf0"
      },
      "id": "v35gtcDn1le_",
      "execution_count": null,
      "outputs": [
        {
          "output_type": "stream",
          "name": "stdout",
          "text": [
            "root\n",
            " |-- dt_geracao: timestamp (nullable = true)\n",
            " |-- uf: string (nullable = true)\n",
            " |-- cidade: string (nullable = true)\n",
            " |-- zona: integer (nullable = true)\n",
            " |-- secao: integer (nullable = true)\n",
            " |-- local_votacao_id: integer (nullable = true)\n",
            " |-- cidade_id: integer (nullable = true)\n",
            " |-- urna_id: string (nullable = true)\n",
            " |-- zona_id: string (nullable = true)\n",
            " |-- regiao: string (nullable = true)\n",
            " |-- dt_emissao_bu: timestamp (nullable = true)\n",
            " |-- dt_bu_recebido: timestamp (nullable = true)\n",
            " |-- dt_abertura: timestamp (nullable = true)\n",
            " |-- dt_encerramento: timestamp (nullable = true)\n",
            " |-- segundos_emissao_bu_recebimento: long (nullable = true)\n",
            " |-- segundos_abertura_encerramento: long (nullable = true)\n",
            " |-- dt_carga_urna_esperada: timestamp (nullable = true)\n",
            " |-- dt_carga_urna_efetivada: timestamp (nullable = true)\n",
            " |-- junta_apuradora: integer (nullable = true)\n",
            " |-- turma_apuradora: integer (nullable = true)\n",
            " |-- secoes_agregadas: string (nullable = true)\n",
            " |-- total_secoes_agregadas: integer (nullable = false)\n",
            " |-- modelos_urnas: string (nullable = false)\n",
            " |-- modelo: integer (nullable = true)\n",
            " |-- modelo_2020: integer (nullable = false)\n",
            " |-- urna_efetivada: integer (nullable = true)\n",
            " |-- urna_esperada: integer (nullable = true)\n",
            " |-- flashcard_urna_esperada: string (nullable = true)\n",
            " |-- flashcard_urna_efetivada: string (nullable = true)\n",
            " |-- carga_1_urna_esperada: string (nullable = true)\n",
            " |-- carga_1_urna_efetivada: string (nullable = true)\n",
            " |-- carga_2_urna_esperada: string (nullable = true)\n",
            " |-- carga_2_urna_efetivada: string (nullable = true)\n",
            " |-- dt_reco_urna_esperada: timestamp (nullable = true)\n",
            " |-- dt_reco_urna_efetivada: timestamp (nullable = true)\n",
            " |-- local_votacao: string (nullable = true)\n",
            " |-- endereco: string (nullable = true)\n",
            " |-- origem_voto: integer (nullable = true)\n",
            " |-- urna_contingencia: integer (nullable = true)\n",
            " |-- aptos: integer (nullable = true)\n",
            " |-- nao_habilitados_biometria: integer (nullable = true)\n",
            " |-- lula: long (nullable = true)\n",
            " |-- bolsonaro: long (nullable = true)\n",
            " |-- brancos: long (nullable = true)\n",
            " |-- nulos: long (nullable = true)\n",
            " |-- lulavence: integer (nullable = false)\n",
            " |-- bolsonarovence: integer (nullable = false)\n",
            " |-- empate: integer (nullable = false)\n",
            " |-- lula_por_aptos: double (nullable = true)\n",
            " |-- bolsonaro_por_aptos: double (nullable = true)\n",
            " |-- brancos_por_aptos: double (nullable = true)\n",
            " |-- nulos_por_aptos: double (nullable = true)\n",
            " |-- emissao_bu_pos_encerramento: integer (nullable = true)\n",
            " |-- abstencoes_por_aptos: double (nullable = true)\n",
            " |-- tx_abstencao: double (nullable = true)\n",
            " |-- tx_nao_habilitados_biometria: double (nullable = true)\n",
            " |-- comparecimentos: integer (nullable = true)\n",
            " |-- abstencoes: integer (nullable = true)\n",
            " |-- nvoluntarios_por_zona: long (nullable = true)\n",
            " |-- voluntarios_por_zona: long (nullable = true)\n",
            " |-- zona_tem_voluntarios: integer (nullable = false)\n",
            "\n"
          ]
        },
        {
          "output_type": "execute_result",
          "data": {
            "text/plain": [
              "472028"
            ]
          },
          "metadata": {},
          "execution_count": 61
        }
      ]
    },
    {
      "cell_type": "markdown",
      "id": "b983e6c6",
      "metadata": {
        "id": "b983e6c6"
      },
      "source": [
        "## ANÁLISE COM MACHINE LEARNING\n",
        "\n",
        "Como são muitos campos para analisar, resolvi utilizar um algoritmo de Machine Learning da biblioteca Spark ML.\n",
        "Como são dados não classificados, a princípio, para essa projeção optei por utilizar um algoritmo não supervisionado de clustering, ou agrupamento.\n",
        "\n",
        "O algoritmo escolhido foi o Gaussian Mixture.\n",
        "\n",
        "Entre as features escolhidas estão diversas variáveis do dataframe vm. O objetivo é deixar o algoritmo encontrar padrões e segmentar os dados.\n",
        "\n",
        "Após rodar com diversos números de k, o hiperparâmetro principal, encontrei o valor de k=4 como ideal para essa análise. Vamos rodar o algoritmo e entender como ele dividiu automaticamente entre esses grupos, e como ele dividiu esses grupos considerando algumas variáveis importantes.\n",
        "\n",
        "Features escolhidas:\n",
        "\n",
        "* bolsonaro_por_aptos\n",
        "* lula_por_aptos\n",
        "* nulos e brancos por aptos\n",
        "* abstenções por aptos\n",
        "* se a urna é modelo 2020 ou não\n",
        "* se a urna foi trocada durante a seção e foi usada urna de contingência\n",
        "* se a emissão do BU ocorreu mais de 10 minutos após o encerramento das eleições\n",
        "* taxa de eleitores não habilitados por biometria\n",
        "* quantidade de mesários voluntários na zona\n",
        "\n"
      ]
    },
    {
      "cell_type": "code",
      "execution_count": null,
      "id": "d0f7a5be",
      "metadata": {
        "id": "d0f7a5be",
        "colab": {
          "base_uri": "https://localhost:8080/"
        },
        "outputId": "eb02a350-d98c-4853-df0f-2c9efa10ddf8"
      },
      "outputs": [
        {
          "output_type": "execute_result",
          "data": {
            "text/plain": [
              "472028"
            ]
          },
          "metadata": {},
          "execution_count": 64
        }
      ],
      "source": [
        "# Define features para o algoritmo\n",
        "#features = [\"bolsonaro_por_aptos\", \"lula_por_aptos\", \"brancos_por_aptos\", \"nulos_por_aptos\", \"abstencoes_por_aptos\", \"modelo_2020\", \"urna_contingencia\", \"emissao_bu_pos_encerramento\", \"tx_nao_habilitados_biometria\", \"voluntarios_por_zona\"]\n",
        "vm_wozeros = vm\\\n",
        "              .withColumn(\"bopa\", expr(\"if(bolsonaro_por_aptos > 0, bolsonaro_por_aptos, 0.001)\"))\\\n",
        "              .withColumn(\"lupa\", expr(\"if(lula_por_aptos > 0, lula_por_aptos, 0.001)\"))\\\n",
        "              .withColumn(\"bpa\", expr(\"if(brancos_por_aptos > 0, brancos_por_aptos, 0.001)\"))\\\n",
        "              .withColumn(\"npa\", expr(\"if(nulos_por_aptos > 0, nulos_por_aptos, 0.001)\"))\\\n",
        "              .withColumn(\"apa\", expr(\"if(abstencoes_por_aptos > 0, abstencoes_por_aptos, 0.001)\"))\\\n",
        "              .withColumn(\"txnhbpa\", expr(\"if(tx_nao_habilitados_biometria > 0, tx_nao_habilitados_biometria, 0.001)\"))\n",
        "\n",
        "\n",
        "features = [\"bopa\", \"lupa\", \"bpa\", \"npa\", \"apa\", \"txnhbpa\"]\n",
        "\n",
        "# Cria um vetor de features\n",
        "from pyspark.ml.feature import VectorAssembler\n",
        "va = VectorAssembler(inputCols=features, outputCol=\"features\")\n",
        "features_vector = va.transform(vm_wozeros)\n",
        "\n",
        "features_vector.persist()\n",
        "features_vector.count()\n",
        "# Coloca o vetor de features na mesma escala numérica para facilitar o processamento e a identificação dos grupos\n",
        "#from pyspark.ml.feature import StandardScaler\n",
        "#ss = StandardScaler(inputCol=\"features\", outputCol=\"features_scaled\", withMean=False, withStd=True)\n",
        "#features_scaled = ss.fit(features_vector).transform(features_vector)"
      ]
    },
    {
      "cell_type": "code",
      "execution_count": null,
      "id": "4ba7ccd6",
      "metadata": {
        "colab": {
          "base_uri": "https://localhost:8080/"
        },
        "id": "4ba7ccd6",
        "outputId": "cb87ce4f-e1ed-48ef-80e7-e6acede1b655"
      },
      "outputs": [
        {
          "output_type": "stream",
          "name": "stdout",
          "text": [
            "aggregationDepth: suggested depth for treeAggregate (>= 2). (default: 2)\n",
            "featuresCol: features column name. (default: features, current: features)\n",
            "k: Number of independent Gaussians in the mixture model. Must be > 1. (default: 2, current: 4)\n",
            "maxIter: max number of iterations (>= 0). (default: 100, current: 10000)\n",
            "predictionCol: prediction column name. (default: prediction)\n",
            "probabilityCol: Column name for predicted class conditional probabilities. Note: Not all models output well-calibrated probability estimates! These probabilities should be treated as confidences, not precise probabilities. (default: probability)\n",
            "seed: random seed. (default: 6697267902838838571, current: 42)\n",
            "tol: the convergence tolerance for iterative algorithms (>= 0). (default: 0.01, current: 0.01)\n",
            "weightCol: weight column name. If this is not set or empty, we treat all instance weights as 1.0. (undefined)\n"
          ]
        }
      ],
      "source": [
        "#Estimador Gaussian Mixture \n",
        "\n",
        "from pyspark.ml.clustering import GaussianMixture\n",
        "\n",
        "# O valor de K foi testado e avaliado com números de 2 a 10. \n",
        "# K = 4 pareceu uma ótima forma de agrupá-los após os testes\n",
        "\n",
        "gm = GaussianMixture(featuresCol=\"features\", k=4, seed=42, maxIter=10000, tol=0.01)\n",
        "\n",
        "# Estes são os hiperparâmetros disponíveis para o algoritmo Gaussian Mixture\n",
        "print(gm.explainParams())\n",
        "\n",
        "# Executa o algoritmo de machine learning:\n",
        "gmm = gm.fit(features_vector)\n",
        "\n",
        "# Cria o dataframe predictions contendo os grupos que o algoritmo encontrou sozinho\n",
        "predictions = gmm.summary.predictions\n",
        "\n"
      ]
    },
    {
      "cell_type": "code",
      "execution_count": null,
      "id": "005c4462-b97b-4009-9b62-609de83d9d49",
      "metadata": {
        "colab": {
          "base_uri": "https://localhost:8080/"
        },
        "id": "005c4462-b97b-4009-9b62-609de83d9d49",
        "outputId": "1f3623d8-85e9-4939-9d13-ec07a81a95a9"
      },
      "outputs": [
        {
          "output_type": "execute_result",
          "data": {
            "text/plain": [
              "271"
            ]
          },
          "metadata": {},
          "execution_count": 69
        }
      ],
      "source": [
        "gmm.summary.numIter"
      ]
    },
    {
      "cell_type": "code",
      "execution_count": null,
      "id": "80fecd5a",
      "metadata": {
        "colab": {
          "base_uri": "https://localhost:8080/"
        },
        "id": "80fecd5a",
        "outputId": "661aca87-d6f1-4b74-fa8b-724ce7a86666"
      },
      "outputs": [
        {
          "output_type": "execute_result",
          "data": {
            "text/plain": [
              "[4262, 7211, 28762, 431793]"
            ]
          },
          "metadata": {},
          "execution_count": 70
        }
      ],
      "source": [
        "# Mostra o tamanho dos clusters encontrados\n",
        "gmm.summary.clusterSizes"
      ]
    },
    {
      "cell_type": "code",
      "source": [
        "!sleep 36000"
      ],
      "metadata": {
        "colab": {
          "base_uri": "https://localhost:8080/"
        },
        "id": "Aza0NH6bTr6i",
        "outputId": "8abef596-ea36-463f-aab3-1eb49c276824"
      },
      "id": "Aza0NH6bTr6i",
      "execution_count": null,
      "outputs": [
        {
          "output_type": "stream",
          "name": "stdout",
          "text": [
            "^C\n"
          ]
        }
      ]
    },
    {
      "cell_type": "markdown",
      "id": "931c9219",
      "metadata": {
        "id": "931c9219"
      },
      "source": [
        "## ANÁLISE COM PIVOT\n",
        "\n",
        "Para tentar entender como o algoritmo dividiu os grupos, faremos alguns pivots entre alguns campos para entender a forma como os dados foram distribuídos. \n",
        "\n",
        "### Conclusões:\n",
        "\n",
        "* Os grupos 0 e 1 concentram locais onde L venceu. Os grupos 2 e 3, os locais onde B venceu.\n",
        "* Apenas o grupo 0 tem seções com emissão do BU após encerramento e conta tanto com urnas 2020 quanto antigas\n",
        "* Apenas o grupo 0 tem urnas de contingência\n",
        "* Grupo 1 concentra mais urnas no NE\n",
        "* Grupos 0, 2 e 3 concentram mais urnas no SE\n",
        "* Apenas grupos 0 e 1 têm urnas no exterior\n",
        "* Lula vence em 0 e 1 e perde em 2 e 3\n",
        "* Lula vence apenas no NE, mas de forma expressiva em número de seções\n",
        "* Lula vence quando o modelo não é 2020, mas perde quando é\n",
        "* Lula vence mais nas seções com emissão de BU que encerraram mais de 10 minutos após o fim da eleição no 2o turno."
      ]
    },
    {
      "cell_type": "code",
      "execution_count": null,
      "id": "a304ed32",
      "metadata": {
        "colab": {
          "base_uri": "https://localhost:8080/",
          "height": 238
        },
        "id": "a304ed32",
        "outputId": "bec7e244-2ce4-447e-b6fc-bcfeef1acc55"
      },
      "outputs": [
        {
          "output_type": "execute_result",
          "data": {
            "text/plain": [
              "  regiao_prediction     0     1      2       3\n",
              "0                 N    60  1796   5878   31241\n",
              "1                ZZ     0   741     15     262\n",
              "2                NE  2643  1677  11637  116621\n",
              "3                SE   659   836   5479  187387\n",
              "4                CO    76   746   2973   32137\n",
              "5                 S   824  1415   2780   64145"
            ],
            "text/html": [
              "\n",
              "  <div id=\"df-f553cdf2-3e5c-4135-bfe8-4198140c1948\">\n",
              "    <div class=\"colab-df-container\">\n",
              "      <div>\n",
              "<style scoped>\n",
              "    .dataframe tbody tr th:only-of-type {\n",
              "        vertical-align: middle;\n",
              "    }\n",
              "\n",
              "    .dataframe tbody tr th {\n",
              "        vertical-align: top;\n",
              "    }\n",
              "\n",
              "    .dataframe thead th {\n",
              "        text-align: right;\n",
              "    }\n",
              "</style>\n",
              "<table border=\"1\" class=\"dataframe\">\n",
              "  <thead>\n",
              "    <tr style=\"text-align: right;\">\n",
              "      <th></th>\n",
              "      <th>regiao_prediction</th>\n",
              "      <th>0</th>\n",
              "      <th>1</th>\n",
              "      <th>2</th>\n",
              "      <th>3</th>\n",
              "    </tr>\n",
              "  </thead>\n",
              "  <tbody>\n",
              "    <tr>\n",
              "      <th>0</th>\n",
              "      <td>N</td>\n",
              "      <td>60</td>\n",
              "      <td>1796</td>\n",
              "      <td>5878</td>\n",
              "      <td>31241</td>\n",
              "    </tr>\n",
              "    <tr>\n",
              "      <th>1</th>\n",
              "      <td>ZZ</td>\n",
              "      <td>0</td>\n",
              "      <td>741</td>\n",
              "      <td>15</td>\n",
              "      <td>262</td>\n",
              "    </tr>\n",
              "    <tr>\n",
              "      <th>2</th>\n",
              "      <td>NE</td>\n",
              "      <td>2643</td>\n",
              "      <td>1677</td>\n",
              "      <td>11637</td>\n",
              "      <td>116621</td>\n",
              "    </tr>\n",
              "    <tr>\n",
              "      <th>3</th>\n",
              "      <td>SE</td>\n",
              "      <td>659</td>\n",
              "      <td>836</td>\n",
              "      <td>5479</td>\n",
              "      <td>187387</td>\n",
              "    </tr>\n",
              "    <tr>\n",
              "      <th>4</th>\n",
              "      <td>CO</td>\n",
              "      <td>76</td>\n",
              "      <td>746</td>\n",
              "      <td>2973</td>\n",
              "      <td>32137</td>\n",
              "    </tr>\n",
              "    <tr>\n",
              "      <th>5</th>\n",
              "      <td>S</td>\n",
              "      <td>824</td>\n",
              "      <td>1415</td>\n",
              "      <td>2780</td>\n",
              "      <td>64145</td>\n",
              "    </tr>\n",
              "  </tbody>\n",
              "</table>\n",
              "</div>\n",
              "      <button class=\"colab-df-convert\" onclick=\"convertToInteractive('df-f553cdf2-3e5c-4135-bfe8-4198140c1948')\"\n",
              "              title=\"Convert this dataframe to an interactive table.\"\n",
              "              style=\"display:none;\">\n",
              "        \n",
              "  <svg xmlns=\"http://www.w3.org/2000/svg\" height=\"24px\"viewBox=\"0 0 24 24\"\n",
              "       width=\"24px\">\n",
              "    <path d=\"M0 0h24v24H0V0z\" fill=\"none\"/>\n",
              "    <path d=\"M18.56 5.44l.94 2.06.94-2.06 2.06-.94-2.06-.94-.94-2.06-.94 2.06-2.06.94zm-11 1L8.5 8.5l.94-2.06 2.06-.94-2.06-.94L8.5 2.5l-.94 2.06-2.06.94zm10 10l.94 2.06.94-2.06 2.06-.94-2.06-.94-.94-2.06-.94 2.06-2.06.94z\"/><path d=\"M17.41 7.96l-1.37-1.37c-.4-.4-.92-.59-1.43-.59-.52 0-1.04.2-1.43.59L10.3 9.45l-7.72 7.72c-.78.78-.78 2.05 0 2.83L4 21.41c.39.39.9.59 1.41.59.51 0 1.02-.2 1.41-.59l7.78-7.78 2.81-2.81c.8-.78.8-2.07 0-2.86zM5.41 20L4 18.59l7.72-7.72 1.47 1.35L5.41 20z\"/>\n",
              "  </svg>\n",
              "      </button>\n",
              "      \n",
              "  <style>\n",
              "    .colab-df-container {\n",
              "      display:flex;\n",
              "      flex-wrap:wrap;\n",
              "      gap: 12px;\n",
              "    }\n",
              "\n",
              "    .colab-df-convert {\n",
              "      background-color: #E8F0FE;\n",
              "      border: none;\n",
              "      border-radius: 50%;\n",
              "      cursor: pointer;\n",
              "      display: none;\n",
              "      fill: #1967D2;\n",
              "      height: 32px;\n",
              "      padding: 0 0 0 0;\n",
              "      width: 32px;\n",
              "    }\n",
              "\n",
              "    .colab-df-convert:hover {\n",
              "      background-color: #E2EBFA;\n",
              "      box-shadow: 0px 1px 2px rgba(60, 64, 67, 0.3), 0px 1px 3px 1px rgba(60, 64, 67, 0.15);\n",
              "      fill: #174EA6;\n",
              "    }\n",
              "\n",
              "    [theme=dark] .colab-df-convert {\n",
              "      background-color: #3B4455;\n",
              "      fill: #D2E3FC;\n",
              "    }\n",
              "\n",
              "    [theme=dark] .colab-df-convert:hover {\n",
              "      background-color: #434B5C;\n",
              "      box-shadow: 0px 1px 3px 1px rgba(0, 0, 0, 0.15);\n",
              "      filter: drop-shadow(0px 1px 2px rgba(0, 0, 0, 0.3));\n",
              "      fill: #FFFFFF;\n",
              "    }\n",
              "  </style>\n",
              "\n",
              "      <script>\n",
              "        const buttonEl =\n",
              "          document.querySelector('#df-f553cdf2-3e5c-4135-bfe8-4198140c1948 button.colab-df-convert');\n",
              "        buttonEl.style.display =\n",
              "          google.colab.kernel.accessAllowed ? 'block' : 'none';\n",
              "\n",
              "        async function convertToInteractive(key) {\n",
              "          const element = document.querySelector('#df-f553cdf2-3e5c-4135-bfe8-4198140c1948');\n",
              "          const dataTable =\n",
              "            await google.colab.kernel.invokeFunction('convertToInteractive',\n",
              "                                                     [key], {});\n",
              "          if (!dataTable) return;\n",
              "\n",
              "          const docLinkHtml = 'Like what you see? Visit the ' +\n",
              "            '<a target=\"_blank\" href=https://colab.research.google.com/notebooks/data_table.ipynb>data table notebook</a>'\n",
              "            + ' to learn more about interactive tables.';\n",
              "          element.innerHTML = '';\n",
              "          dataTable['output_type'] = 'display_data';\n",
              "          await google.colab.output.renderOutput(dataTable, element);\n",
              "          const docLink = document.createElement('div');\n",
              "          docLink.innerHTML = docLinkHtml;\n",
              "          element.appendChild(docLink);\n",
              "        }\n",
              "      </script>\n",
              "    </div>\n",
              "  </div>\n",
              "  "
            ],
            "application/vnd.dataresource+json": {
              "schema": {
                "fields": [
                  {
                    "name": "index",
                    "type": "integer"
                  },
                  {
                    "name": "regiao_prediction",
                    "type": "string"
                  },
                  {
                    "name": "0",
                    "type": "integer"
                  },
                  {
                    "name": "1",
                    "type": "integer"
                  },
                  {
                    "name": "2",
                    "type": "integer"
                  },
                  {
                    "name": "3",
                    "type": "integer"
                  }
                ],
                "primaryKey": [
                  "index"
                ],
                "pandas_version": "0.20.0"
              },
              "data": [
                {
                  "0": 60,
                  "1": 1796,
                  "2": 5878,
                  "3": 31241,
                  "index": 0,
                  "regiao_prediction": "N"
                },
                {
                  "0": 0,
                  "1": 741,
                  "2": 15,
                  "3": 262,
                  "index": 1,
                  "regiao_prediction": "ZZ"
                },
                {
                  "0": 2643,
                  "1": 1677,
                  "2": 11637,
                  "3": 116621,
                  "index": 2,
                  "regiao_prediction": "NE"
                },
                {
                  "0": 659,
                  "1": 836,
                  "2": 5479,
                  "3": 187387,
                  "index": 3,
                  "regiao_prediction": "SE"
                },
                {
                  "0": 76,
                  "1": 746,
                  "2": 2973,
                  "3": 32137,
                  "index": 4,
                  "regiao_prediction": "CO"
                },
                {
                  "0": 824,
                  "1": 1415,
                  "2": 2780,
                  "3": 64145,
                  "index": 5,
                  "regiao_prediction": "S"
                }
              ]
            }
          },
          "metadata": {},
          "execution_count": 72
        }
      ],
      "source": [
        "# Região vs Cluster\n",
        "predictions.crosstab(\"regiao\", \"prediction\").toPandas()"
      ]
    },
    {
      "cell_type": "code",
      "execution_count": null,
      "id": "4248bf18",
      "metadata": {
        "colab": {
          "base_uri": "https://localhost:8080/"
        },
        "id": "4248bf18",
        "outputId": "314901ea-28ee-40fd-9da2-9d1c927be01e"
      },
      "outputs": [
        {
          "output_type": "stream",
          "name": "stdout",
          "text": [
            "+----------------------+------+------+\n",
            "|prediction_modelo_2020|     0|     1|\n",
            "+----------------------+------+------+\n",
            "|                     0|  4092|   291|\n",
            "|                     1| 21326|  7466|\n",
            "|                     2|  4945|  1406|\n",
            "|                     3|248974|183528|\n",
            "+----------------------+------+------+\n",
            "\n"
          ]
        }
      ],
      "source": [
        "# Modelo_2020 vs Cluster\n",
        "predictions.crosstab(\"prediction\", \"modelo_2020\").orderBy(\"prediction_modelo_2020\").show()"
      ]
    },
    {
      "cell_type": "code",
      "execution_count": null,
      "id": "244e4e3e",
      "metadata": {
        "colab": {
          "base_uri": "https://localhost:8080/"
        },
        "id": "244e4e3e",
        "outputId": "f1b30b1f-68cc-444b-e4b0-48caf1a49172"
      },
      "outputs": [
        {
          "output_type": "stream",
          "name": "stdout",
          "text": [
            "+----------------------------+----+-----+----+------+\n",
            "|urna_contingencia_prediction|   0|    1|   2|     3|\n",
            "+----------------------------+----+-----+----+------+\n",
            "|                           1| 206|  594| 131|  7171|\n",
            "|                           0|4177|28198|6220|425331|\n",
            "+----------------------------+----+-----+----+------+\n",
            "\n"
          ]
        }
      ],
      "source": [
        "# Urna de contingência vs Cluster\n",
        "predictions.crosstab(\"urna_contingencia\", \"prediction\").show()"
      ]
    },
    {
      "cell_type": "code",
      "execution_count": null,
      "id": "523c0293",
      "metadata": {
        "colab": {
          "base_uri": "https://localhost:8080/"
        },
        "id": "523c0293",
        "outputId": "ea83aee5-5287-496f-9d04-7a8adf927d79"
      },
      "outputs": [
        {
          "output_type": "stream",
          "name": "stdout",
          "text": [
            "+--------------------------------------+----+-----+----+------+\n",
            "|emissao_bu_pos_encerramento_prediction|   0|    1|   2|     3|\n",
            "+--------------------------------------+----+-----+----+------+\n",
            "|                                     1| 210| 1671| 493| 19213|\n",
            "|                                     0|4173|27121|5858|413289|\n",
            "+--------------------------------------+----+-----+----+------+\n",
            "\n"
          ]
        }
      ],
      "source": [
        "# Emissão do BU após encerramento vs Cluster\n",
        "predictions.crosstab(\"emissao_bu_pos_encerramento\", \"prediction\").show()"
      ]
    },
    {
      "cell_type": "code",
      "execution_count": null,
      "id": "9f75c586",
      "metadata": {
        "colab": {
          "base_uri": "https://localhost:8080/"
        },
        "id": "9f75c586",
        "outputId": "6a22f114-123b-497a-ed6f-59ce8fd07867"
      },
      "outputs": [
        {
          "output_type": "stream",
          "name": "stdout",
          "text": [
            "+--------------------+----+-----+----+------+\n",
            "|lulavence_prediction|   0|    1|   2|     3|\n",
            "+--------------------+----+-----+----+------+\n",
            "|                   1|3157|18481|3405|200476|\n",
            "|                   0|1226|10311|2946|232026|\n",
            "+--------------------+----+-----+----+------+\n",
            "\n"
          ]
        }
      ],
      "source": [
        "# lulavence vs Cluster\n",
        "predictions.crosstab(\"lulavence\", \"prediction\").show()"
      ]
    },
    {
      "cell_type": "code",
      "execution_count": null,
      "id": "fac392ad",
      "metadata": {
        "colab": {
          "base_uri": "https://localhost:8080/"
        },
        "id": "fac392ad",
        "outputId": "1ec8b240-d3b0-404b-a19c-1f13763be882"
      },
      "outputs": [
        {
          "output_type": "stream",
          "name": "stdout",
          "text": [
            "+---------------------+------+------+\n",
            "|modelo_2020_lulavence|     0|     1|\n",
            "+---------------------+------+------+\n",
            "|                    1|108196| 84495|\n",
            "|                    0|138313|141024|\n",
            "+---------------------+------+------+\n",
            "\n"
          ]
        }
      ],
      "source": [
        "# Modelo 2020 vs lulavence\n",
        "predictions.crosstab(\"modelo_2020\", \"lulavence\").show()"
      ]
    },
    {
      "cell_type": "code",
      "execution_count": null,
      "id": "7197755c",
      "metadata": {
        "colab": {
          "base_uri": "https://localhost:8080/"
        },
        "id": "7197755c",
        "outputId": "660fdc30-642b-4884-c62d-8416c3e1ddc3"
      },
      "outputs": [
        {
          "output_type": "stream",
          "name": "stdout",
          "text": [
            "+-------------------------------------+------+------+\n",
            "|emissao_bu_pos_encerramento_lulavence|     0|     1|\n",
            "+-------------------------------------+------+------+\n",
            "|                                    1| 10290| 11297|\n",
            "|                                    0|236219|214222|\n",
            "+-------------------------------------+------+------+\n",
            "\n"
          ]
        }
      ],
      "source": [
        "# emissao_bu_pos_encerramento vs lulavence\n",
        "predictions.crosstab(\"emissao_bu_pos_encerramento\", \"lulavence\").show()"
      ]
    },
    {
      "cell_type": "markdown",
      "id": "8f771121",
      "metadata": {
        "id": "8f771121"
      },
      "source": [
        "## ANÁLISE GRÁFICA\n",
        "\n",
        "Aqui vamos plotar gráficos de cada um dos grupos para entender como as urnas se distribuem e com que frequência.\n",
        "\n",
        "### Conclusões:\n",
        "\n",
        "* __Grupo 0:__\n",
        "    * Voto em Bolsonaro apresentando distribuição diferente onde L vence\n",
        "    * Modelos não 2020 apresentando mais vantagem para L\n",
        "    * Maiores frequências de Bolsonaro variando de 0,6 a quase 0,0.\n",
        "    * Maiores frequências de L variando de 0,2 a 0,8\n",
        "    * Nordeste mais para L e S e CO mais para B\n",
        "    * Onde a emissão do BU atrasou mais, há mais votos para L, chegando acima de 80% dos votos em mais seções\n",
        "    * Formato de semicírculo\n",
        "\n",
        "* __Grupo 1:__\n",
        "    * S, CO e SE dando vitória para Bolsonaro e NE para L\n",
        "    * Caráter bimodal das curvas de frequência na área externa do gráfico para vários modelos, só aparece nesse gráfico. Destaque para os modelos 2010 e 2015\n",
        "    * Maior quantidade de seções com votos mais próximos de 0% para B.\n",
        "    * Formato triangular destoando dos demais\n",
        "\n",
        "    \n",
        "* __Grupo 2:__\n",
        "    * Grande concentração no Sul e Centro-Oeste\n",
        "    * Curvas de frequência normais\n",
        "    * Formato de semicírculo\n",
        "    \n",
        "* __Grupo 3:__\n",
        "    * Grande concentração no Sudeste\n",
        "    * Curvas de frequência normais\n",
        "    * Formato de semicírculo\n",
        "    "
      ]
    },
    {
      "cell_type": "code",
      "execution_count": null,
      "id": "46a12856",
      "metadata": {
        "colab": {
          "base_uri": "https://localhost:8080/",
          "height": 515
        },
        "id": "46a12856",
        "outputId": "fcb0b938-49cd-4e83-eda5-1664239b08fb"
      },
      "outputs": [
        {
          "output_type": "stream",
          "name": "stderr",
          "text": [
            "/usr/local/lib/python3.7/dist-packages/seaborn/distributions.py:1213: UserWarning: No contour levels were found within the data range.\n",
            "  **contour_kws,\n"
          ]
        },
        {
          "output_type": "execute_result",
          "data": {
            "text/plain": [
              "<seaborn.axisgrid.JointGrid at 0x7f1e3025b9d0>"
            ]
          },
          "metadata": {},
          "execution_count": 106
        },
        {
          "output_type": "display_data",
          "data": {
            "text/plain": [
              "<Figure size 432x432 with 3 Axes>"
            ],
            "image/png": "[encoded data removed]"
          },
          "metadata": {
            "needs_background": "light"
          }
        }
      ],
      "source": [
        "pdf = predictions.selectExpr(\"bolsonaro_por_aptos\", \"lula_por_aptos\", \"prediction\").sample(withReplacement=False, fraction=0.1, seed=42).toPandas()\n",
        "g = sns.jointplot(data=pdf, x=\"lula_por_aptos\", y=\"bolsonaro_por_aptos\", hue=\"prediction\")\n",
        "g.plot_joint(sns.kdeplot, zorder=0, levels=3)\n",
        "g.plot_marginals(sns.rugplot, height=-.15, clip_on=False)"
      ]
    },
    {
      "cell_type": "code",
      "execution_count": null,
      "id": "4af9e5dc",
      "metadata": {
        "id": "4af9e5dc"
      },
      "outputs": [],
      "source": [
        "pdf = predictions.filter(\"prediction = 0\").selectExpr(\"bolsonaro_por_aptos\", \"lula_por_aptos\", \"modelo\").sample(withReplacement=False, fraction=1.0, seed=42).toPandas()\n",
        "g = sns.jointplot(data=pdf, x=\"lula_por_aptos\", y=\"bolsonaro_por_aptos\", hue=\"modelo\")\n",
        "g.plot_joint(sns.kdeplot, zorder=0, levels=3)\n",
        "g.plot_marginals(sns.rugplot, height=-.15, clip_on=False)"
      ]
    },
    {
      "cell_type": "code",
      "execution_count": null,
      "id": "48d042c9",
      "metadata": {
        "id": "48d042c9"
      },
      "outputs": [],
      "source": [
        "pdf = predictions.filter(\"prediction = 0\").selectExpr(\"bolsonaro_por_aptos\", \"lula_por_aptos\", \"regiao\").sample(withReplacement=False, fraction=0.1, seed=42).toPandas()\n",
        "g = sns.jointplot(data=pdf, x=\"lula_por_aptos\", y=\"bolsonaro_por_aptos\", hue=\"regiao\")\n",
        "g.plot_joint(sns.kdeplot, zorder=0, levels=3)\n",
        "g.plot_marginals(sns.rugplot, height=-.15, clip_on=False)"
      ]
    },
    {
      "cell_type": "code",
      "execution_count": null,
      "id": "6fae047d",
      "metadata": {
        "id": "6fae047d"
      },
      "outputs": [],
      "source": [
        "pdf = predictions.filter(\"prediction = 0\").selectExpr(\"bolsonaro_por_aptos\", \"lula_por_aptos\", \"emissao_bu_pos_encerramento\").sample(withReplacement=False, fraction=0.1, seed=42).toPandas()\n",
        "g = sns.jointplot(data=pdf, x=\"lula_por_aptos\", y=\"bolsonaro_por_aptos\", hue=\"emissao_bu_pos_encerramento\")\n",
        "g.plot_joint(sns.kdeplot, zorder=0, levels=3)\n",
        "g.plot_marginals(sns.rugplot, height=-.15, clip_on=False)"
      ]
    },
    {
      "cell_type": "code",
      "execution_count": null,
      "id": "71dd74c6",
      "metadata": {
        "id": "71dd74c6"
      },
      "outputs": [],
      "source": [
        "pdf = predictions.filter(\"prediction = 3\").selectExpr(\"bolsonaro_por_aptos\", \"lula_por_aptos\", \"modelo_2020\").sample(withReplacement=False, fraction=0.1, seed=42).toPandas()\n",
        "g = sns.jointplot(data=pdf, x=\"lula_por_aptos\", y=\"bolsonaro_por_aptos\", hue=\"modelo_2020\")\n",
        "g.plot_joint(sns.kdeplot, zorder=0, levels=3)\n",
        "g.plot_marginals(sns.rugplot, height=-.15, clip_on=False)"
      ]
    },
    {
      "cell_type": "code",
      "execution_count": null,
      "id": "9332d82a",
      "metadata": {
        "id": "9332d82a"
      },
      "outputs": [],
      "source": [
        "pdf = predictions.filter(\"prediction = 1\").selectExpr(\"bolsonaro_por_aptos\", \"lula_por_aptos\", \"lulavence\").sample(withReplacement=False, fraction=0.1, seed=42).toPandas()\n",
        "g = sns.jointplot(data=pdf, x=\"lula_por_aptos\", y=\"bolsonaro_por_aptos\", hue=\"lulavence\")\n",
        "g.plot_joint(sns.kdeplot, zorder=0, levels=3)\n",
        "g.plot_marginals(sns.rugplot, height=-.15, clip_on=False)"
      ]
    },
    {
      "cell_type": "code",
      "execution_count": null,
      "id": "3a4d2c06",
      "metadata": {
        "id": "3a4d2c06"
      },
      "outputs": [],
      "source": [
        "pdf = predictions.filter(\"prediction = 1\").selectExpr(\"bolsonaro_por_aptos\", \"lula_por_aptos\", \"regiao\").sample(withReplacement=False, fraction=0.1, seed=42).toPandas()\n",
        "g = sns.jointplot(data=pdf, x=\"lula_por_aptos\", y=\"bolsonaro_por_aptos\", hue=\"regiao\")\n",
        "g.plot_joint(sns.kdeplot, zorder=0, levels=3)\n",
        "g.plot_marginals(sns.rugplot, height=-.15, clip_on=False)"
      ]
    },
    {
      "cell_type": "code",
      "execution_count": null,
      "id": "21500564",
      "metadata": {
        "id": "21500564"
      },
      "outputs": [],
      "source": [
        "pdf = predictions.filter(\"prediction = 1\").selectExpr(\"bolsonaro_por_aptos\", \"lula_por_aptos\", \"modelo\").sample(withReplacement=False, fraction=0.1, seed=42).toPandas()\n",
        "g = sns.jointplot(data=pdf, x=\"lula_por_aptos\", y=\"bolsonaro_por_aptos\", hue=\"modelo\")\n",
        "g.plot_joint(sns.kdeplot, zorder=0, levels=3)\n",
        "g.plot_marginals(sns.rugplot, height=-.15, clip_on=False)"
      ]
    },
    {
      "cell_type": "code",
      "execution_count": null,
      "id": "7d9765d8",
      "metadata": {
        "id": "7d9765d8"
      },
      "outputs": [],
      "source": [
        "pdf = predictions.filter(\"prediction = 2\").selectExpr(\"bolsonaro_por_aptos\", \"lula_por_aptos\", \"lulavence\").sample(withReplacement=False, fraction=0.1, seed=42).toPandas()\n",
        "g = sns.jointplot(data=pdf, x=\"lula_por_aptos\", y=\"bolsonaro_por_aptos\", hue=\"lulavence\")\n",
        "g.plot_joint(sns.kdeplot, zorder=0, levels=3)\n",
        "g.plot_marginals(sns.rugplot, height=-.15, clip_on=False)"
      ]
    },
    {
      "cell_type": "code",
      "execution_count": null,
      "id": "7d6f5c42",
      "metadata": {
        "id": "7d6f5c42"
      },
      "outputs": [],
      "source": [
        "pdf = predictions.filter(\"prediction = 2\").selectExpr(\"bolsonaro_por_aptos\", \"lula_por_aptos\", \"regiao\").sample(withReplacement=False, fraction=0.1, seed=42).toPandas()\n",
        "g = sns.jointplot(data=pdf, x=\"lula_por_aptos\", y=\"bolsonaro_por_aptos\", hue=\"regiao\")\n",
        "g.plot_joint(sns.kdeplot, zorder=0, levels=3)\n",
        "g.plot_marginals(sns.rugplot, height=-.15, clip_on=False)"
      ]
    },
    {
      "cell_type": "code",
      "execution_count": null,
      "id": "30eb1dc3",
      "metadata": {
        "id": "30eb1dc3"
      },
      "outputs": [],
      "source": [
        "pdf = predictions.filter(\"prediction = 3\").selectExpr(\"bolsonaro_por_aptos\", \"lula_por_aptos\", \"lulavence\").sample(withReplacement=False, fraction=0.1, seed=42).toPandas()\n",
        "g = sns.jointplot(data=pdf, x=\"lula_por_aptos\", y=\"bolsonaro_por_aptos\", hue=\"lulavence\")\n",
        "g.plot_joint(sns.kdeplot, zorder=0, levels=3)\n",
        "g.plot_marginals(sns.rugplot, height=-.15, clip_on=False)"
      ]
    },
    {
      "cell_type": "code",
      "execution_count": null,
      "id": "630b8b0e",
      "metadata": {
        "id": "630b8b0e"
      },
      "outputs": [],
      "source": [
        "pdf = predictions.filter(\"prediction = 3\").selectExpr(\"bolsonaro_por_aptos\", \"lula_por_aptos\", \"regiao\").sample(withReplacement=False, fraction=0.1, seed=42).toPandas()\n",
        "g = sns.jointplot(data=pdf, x=\"lula_por_aptos\", y=\"bolsonaro_por_aptos\", hue=\"regiao\")\n",
        "g.plot_joint(sns.kdeplot, zorder=0, levels=3)\n",
        "g.plot_marginals(sns.rugplot, height=-.15, clip_on=False)"
      ]
    },
    {
      "cell_type": "markdown",
      "id": "9da86e5d",
      "metadata": {
        "id": "9da86e5d"
      },
      "source": [
        "## DIFERENÇAS ENTRE L E B CONSIDERANDO ALGUMAS VARIÁVEIS\n",
        "\n",
        "Vamos analisar considerando:\n",
        "\n",
        "* Grupo do cluster\n",
        "* Modelo 2020\n",
        "* Modelos de urna\n",
        "* Emissão do BU mais de 10 minutos após encerramento\n",
        "* Urna de contingência\n",
        "* lulavence\n",
        "* empate"
      ]
    },
    {
      "cell_type": "code",
      "execution_count": null,
      "id": "67dc1f7a",
      "metadata": {
        "id": "67dc1f7a"
      },
      "outputs": [],
      "source": [
        "#Cria a view p \n",
        "predictions.createOrReplaceTempView(\"p\")"
      ]
    },
    {
      "cell_type": "code",
      "source": [
        "# Urnas com mais de 95% aptos L\n",
        "\n",
        "spark.sql('''\n",
        "            SELECT zona, secao, local_votacao, endereco, cidade, regiao, uf,\n",
        "            lula, bolsonaro, abstencoes, aptos, abstencoes_por_aptos, brancos, nulos FROM p \n",
        "            where lula_por_aptos between 0.0 and 1.0 and prediction != 3 and modelo_2020 = 0\n",
        "            ORDER BY lula_por_aptos DESC\n",
        "            LIMIT 100000\n",
        "            ''').toPandas().plot(kind=\"scatter\", x=\"lula\", y=\"bolsonaro\")"
      ],
      "metadata": {
        "id": "3dVJ-GtEwPvF"
      },
      "id": "3dVJ-GtEwPvF",
      "execution_count": null,
      "outputs": []
    },
    {
      "cell_type": "code",
      "execution_count": null,
      "id": "7f7a6ba5",
      "metadata": {
        "id": "7f7a6ba5"
      },
      "outputs": [],
      "source": [
        "# Diferenças entre L e B por cluster\n",
        "\n",
        "spark.sql('''\n",
        "            SELECT prediction,\n",
        "            sum(lula), sum(bolsonaro), \n",
        "            sum(lula) - sum(bolsonaro) as dif_abs, \n",
        "            round(sum(lula) / sum(bolsonaro) - 1, 2) as dif_rel \n",
        "            FROM p \n",
        "            GROUP BY prediction\n",
        "            ORDER BY dif_rel DESC\n",
        "            ''').toPandas()"
      ]
    },
    {
      "cell_type": "code",
      "execution_count": null,
      "id": "51d9ebcc",
      "metadata": {
        "id": "51d9ebcc"
      },
      "outputs": [],
      "source": [
        "# Diferenças entre L e B por modelo_2020\n",
        "spark.sql('''\n",
        "            SELECT modelo_2020,\n",
        "            sum(lula), sum(bolsonaro), \n",
        "            sum(lula) - sum(bolsonaro) as dif_abs, \n",
        "            round(sum(lula) / sum(bolsonaro) - 1, 2) as dif_rel\n",
        "            FROM p \n",
        "            GROUP BY modelo_2020\n",
        "            ORDER BY dif_rel DESC\n",
        "            ''').toPandas()"
      ]
    },
    {
      "cell_type": "code",
      "execution_count": null,
      "id": "42ddfacf",
      "metadata": {
        "id": "42ddfacf"
      },
      "outputs": [],
      "source": [
        "# Diferenças entre L e B por modelo de urna\n",
        "spark.sql('''\n",
        "            SELECT modelo,\n",
        "            sum(lula), sum(bolsonaro), \n",
        "            sum(lula) - sum(bolsonaro) as dif_abs, \n",
        "            round(sum(lula) / sum(bolsonaro) - 1, 2) as dif_rel\n",
        "            FROM p \n",
        "            WHERE modelo != 1\n",
        "            GROUP BY modelo\n",
        "            ORDER BY dif_rel DESC\n",
        "            ''').toPandas()"
      ]
    },
    {
      "cell_type": "code",
      "execution_count": null,
      "id": "b31c803b",
      "metadata": {
        "id": "b31c803b"
      },
      "outputs": [],
      "source": [
        "# Diferenças entre L e B nas seções onde o BU foi emitido \n",
        "# após o horário de encerramento padrão com tolerância de 10 minutos\n",
        "\n",
        "spark.sql('''\n",
        "            SELECT emissao_bu_pos_encerramento,\n",
        "            sum(lula), sum(bolsonaro), \n",
        "            sum(lula) - sum(bolsonaro) as dif_abs, \n",
        "            round(sum(lula) / sum(bolsonaro) - 1, 2) as dif_rel\n",
        "            FROM p \n",
        "            GROUP BY emissao_bu_pos_encerramento\n",
        "            ORDER BY dif_rel DESC\n",
        "            ''')\\\n",
        "            .toPandas()"
      ]
    },
    {
      "cell_type": "code",
      "execution_count": null,
      "id": "8d78f12f",
      "metadata": {
        "id": "8d78f12f"
      },
      "outputs": [],
      "source": [
        "# Diferenças entre L e B por urna de contingência\n",
        "\n",
        "spark.sql('''\n",
        "            SELECT urna_contingencia,\n",
        "            sum(lula), sum(bolsonaro), \n",
        "            sum(lula) - sum(bolsonaro) as dif_abs, \n",
        "            round(sum(lula) / sum(bolsonaro) - 1, 2) as dif_rel\n",
        "            FROM p \n",
        "            GROUP BY urna_contingencia\n",
        "            ORDER BY dif_rel DESC\n",
        "            ''')\\\n",
        "            .toPandas()"
      ]
    },
    {
      "cell_type": "code",
      "execution_count": null,
      "id": "2e2481b6",
      "metadata": {
        "id": "2e2481b6"
      },
      "outputs": [],
      "source": [
        "# Diferenças entre L e B por lulavence\n",
        "\n",
        "spark.sql('''\n",
        "            SELECT lulavence,\n",
        "            sum(lula), sum(bolsonaro), \n",
        "            sum(lula) - sum(bolsonaro) as dif_abs, \n",
        "            round(sum(lula) / sum(bolsonaro) - 1, 2) as dif_rel\n",
        "            FROM p \n",
        "            GROUP BY lulavence\n",
        "            ORDER BY dif_rel DESC\n",
        "            ''')\\\n",
        "            .toPandas()"
      ]
    },
    {
      "cell_type": "code",
      "execution_count": null,
      "id": "8f992318",
      "metadata": {
        "id": "8f992318"
      },
      "outputs": [],
      "source": [
        "# Diferenças entre L e B por bolsonarovence\n",
        "\n",
        "spark.sql('''\n",
        "            SELECT bolsonarovence,\n",
        "            sum(lula), sum(bolsonaro), \n",
        "            sum(bolsonaro) - sum(lula) as dif_abs, \n",
        "            round(sum(bolsonaro) / sum(lula) - 1, 2) as dif_rel\n",
        "            FROM p \n",
        "            GROUP BY bolsonarovence\n",
        "            ORDER BY dif_rel DESC\n",
        "            ''')\\\n",
        "            .toPandas()"
      ]
    },
    {
      "cell_type": "code",
      "execution_count": null,
      "id": "33ee39ce",
      "metadata": {
        "id": "33ee39ce"
      },
      "outputs": [],
      "source": [
        "# Diferenças entre L e B por empate\n",
        "\n",
        "spark.sql('''\n",
        "            SELECT empate,\n",
        "            sum(lula), sum(bolsonaro), \n",
        "            sum(lula) - sum(bolsonaro) as dif_abs, \n",
        "            round(sum(lula) / sum(bolsonaro) - 1, 2) as dif_rel\n",
        "            FROM p \n",
        "            GROUP BY empate\n",
        "            ORDER BY dif_rel DESC\n",
        "            ''')\\\n",
        "            .toPandas()"
      ]
    },
    {
      "cell_type": "code",
      "execution_count": null,
      "id": "f65121d3",
      "metadata": {
        "id": "f65121d3"
      },
      "outputs": [],
      "source": [
        "# Diferenças entre L e B por regiao\n",
        "\n",
        "spark.sql('''\n",
        "            SELECT regiao,\n",
        "            sum(lula), sum(bolsonaro), \n",
        "            sum(lula) - sum(bolsonaro) as dif_abs, \n",
        "            round(sum(lula) / sum(bolsonaro) - 1, 2) as dif_rel\n",
        "            FROM p \n",
        "            GROUP BY regiao\n",
        "            ORDER BY dif_rel DESC\n",
        "            ''')\\\n",
        "            .toPandas()"
      ]
    },
    {
      "cell_type": "code",
      "execution_count": null,
      "id": "76b3bd6c",
      "metadata": {
        "id": "76b3bd6c"
      },
      "outputs": [],
      "source": [
        "# Diferenças entre L e B por estado\n",
        "\n",
        "spark.sql('''\n",
        "            SELECT uf,\n",
        "            sum(lula), sum(bolsonaro), \n",
        "            sum(lula) - sum(bolsonaro) as dif_abs, \n",
        "            round(sum(lula) / sum(bolsonaro) - 1, 2) as dif_rel\n",
        "            FROM p \n",
        "            GROUP BY uf\n",
        "            ORDER BY dif_rel DESC\n",
        "            ''')\\\n",
        "            .toPandas()"
      ]
    },
    {
      "cell_type": "code",
      "execution_count": null,
      "id": "0d16eebd",
      "metadata": {
        "id": "0d16eebd"
      },
      "outputs": [],
      "source": [
        "spark.sql('''\n",
        "            SELECT ROUND(sum(lula) / sum(aptos), 2) as lula_por_aptos, \n",
        "            ROUND(sum(bolsonaro) / sum(aptos), 2) as bolsonaro_por_aptos,\n",
        "            ROUND ((sum(lula) / sum(aptos)) - (sum(bolsonaro) / sum(aptos)),2) as dif,\n",
        "            modelo_2020\n",
        "            FROM p\n",
        "            GROUP BY modelo_2020\n",
        "            ORDER BY dif DESC\n",
        "''').toPandas()"
      ]
    },
    {
      "cell_type": "code",
      "execution_count": null,
      "id": "7c019233",
      "metadata": {
        "id": "7c019233"
      },
      "outputs": [],
      "source": [
        "spark.sql('''\n",
        "            SELECT ROUND(sum(lula) / sum(aptos), 2) as lula_por_aptos, \n",
        "            ROUND(sum(bolsonaro) / sum(aptos), 2) as bolsonaro_por_aptos,\n",
        "            ROUND ((sum(lula) / sum(aptos)) - (sum(bolsonaro) / sum(aptos)),2) as dif,\n",
        "            modelo\n",
        "            FROM p\n",
        "            GROUP BY modelo\n",
        "            ORDER BY dif DESC\n",
        "''').toPandas()"
      ]
    },
    {
      "cell_type": "code",
      "execution_count": null,
      "id": "af099d34",
      "metadata": {
        "id": "af099d34"
      },
      "outputs": [],
      "source": [
        "spark.sql('''\n",
        "            SELECT IF(dt_abertura < '2022-10-30 08:00:00', 1, 0) as abertura_antes_inicio,\n",
        "            sum(lula), sum(bolsonaro), \n",
        "            sum(lula) - sum(bolsonaro) as dif_abs, \n",
        "            round(sum(lula) / sum(bolsonaro) - 1, 2) as dif_rel\n",
        "            FROM p \n",
        "            WHERE regiao != 'ZZ'\n",
        "            GROUP BY abertura_antes_inicio\n",
        "            ORDER BY dif_rel DESC\n",
        "''').toPandas()"
      ]
    },
    {
      "cell_type": "code",
      "execution_count": null,
      "id": "b1c8d1c7",
      "metadata": {
        "id": "b1c8d1c7"
      },
      "outputs": [],
      "source": [
        "spark.sql('''\n",
        "            SELECT max(cidade) as cidade, max(uf) as uf, max(zona) as zona, count(1) as total, sum(aptos) as aptos, \n",
        "            sum(if(modelo_2020 = 1, 1, 0)) as modelo2020,\n",
        "            sum(if(modelo_2020 =0, 1, 0)) as nao2020,\n",
        "            sum(lula) as l, sum(bolsonaro) as b, \n",
        "            sum(lula) - sum(bolsonaro) as dif_abs, \n",
        "            round(sum(lula) / sum(bolsonaro) - 1, 2) as dif_rel\n",
        "            FROM p \n",
        "            GROUP BY zona_id\n",
        "            HAVING aptos <= 50000 AND modelo2020 > 0 and nao2020 > 0\n",
        "            ORDER BY total DESC\n",
        "''').toPandas()"
      ]
    },
    {
      "cell_type": "code",
      "execution_count": null,
      "id": "e1d70354",
      "metadata": {
        "id": "e1d70354"
      },
      "outputs": [],
      "source": [
        "spark.sql('''\n",
        "            SELECT modelo,\n",
        "            sum(lula), sum(bolsonaro), \n",
        "            sum(lula) - sum(bolsonaro) as dif_abs, \n",
        "            round(sum(lula) / sum(bolsonaro) - 1, 2) as dif_rel,\n",
        "            count(1) as total_secoes\n",
        "            FROM p \n",
        "            WHERE zona = 172 and cidade = 'REGISTRO' and uf = 'SP'\n",
        "            GROUP BY modelo\n",
        "            ORDER BY dif_rel DESC\n",
        "''').toPandas()"
      ]
    },
    {
      "cell_type": "code",
      "execution_count": null,
      "id": "0c997064",
      "metadata": {
        "id": "0c997064"
      },
      "outputs": [],
      "source": [
        "spark.sql('''\n",
        "            SELECT IF(dt_abertura < '2022-10-30 07:00:00', 1, 0) as abertura_antes_inicio,\n",
        "            sum(lula), sum(bolsonaro), \n",
        "            sum(lula) - sum(bolsonaro) as dif_abs, \n",
        "            round(sum(lula) / sum(bolsonaro) - 1, 2) as dif_rel\n",
        "            FROM p \n",
        "            WHERE regiao != 'ZZ'\n",
        "            GROUP BY abertura_antes_inicio\n",
        "            ORDER BY dif_rel DESC\n",
        "''').toPandas()"
      ]
    },
    {
      "cell_type": "code",
      "execution_count": null,
      "id": "06af9b67",
      "metadata": {
        "id": "06af9b67"
      },
      "outputs": [],
      "source": [
        "# Armazena XLSX do cluster 0\n",
        "#predictions.filter(\"prediction = 0\").toPandas().to_excel(path + \"/UrnasGrupo0.xlsx\")"
      ]
    },
    {
      "cell_type": "code",
      "execution_count": null,
      "id": "59d90cc5",
      "metadata": {
        "id": "59d90cc5"
      },
      "outputs": [],
      "source": [
        "# Armazena XLSX do cluster 1\n",
        "#predictions.filter(\"prediction = 1\").toPandas().to_excel(path + \"/UrnasGrupo1.xlsx\")"
      ]
    },
    {
      "cell_type": "code",
      "execution_count": null,
      "id": "50bb5d7a",
      "metadata": {
        "id": "50bb5d7a"
      },
      "outputs": [],
      "source": [
        "# Armazena XLSX do cluster 2\n",
        "#predictions.filter(\"prediction = 2\").toPandas().to_excel(path + \"/UrnasGrupo2.xlsx\")"
      ]
    },
    {
      "cell_type": "code",
      "execution_count": null,
      "id": "426bf373",
      "metadata": {
        "id": "426bf373"
      },
      "outputs": [],
      "source": [
        "# Armazena XLSX do cluster 3\n",
        "#predictions.filter(\"prediction = 3\").toPandas().to_excel(path + \"/UrnasGrupo3.xlsx\")"
      ]
    },
    {
      "cell_type": "code",
      "execution_count": null,
      "id": "2f49e1fb",
      "metadata": {
        "id": "2f49e1fb"
      },
      "outputs": [],
      "source": [
        "# Armazena o dataframe com os clusters\n",
        "\n",
        "#predictions.repartition(1).write.csv(path + \"/Votacao/v2t_csv/\", sep=\";\", mode=\"overwrite\", header=True)\n",
        "predictions.write.parquet(path + \"/Votacao/v2t_parquet/\", mode=\"overwrite\")"
      ]
    },
    {
      "cell_type": "code",
      "execution_count": null,
      "id": "be581845",
      "metadata": {
        "id": "be581845"
      },
      "outputs": [],
      "source": [
        "# Armazena o dataframe vm  em CSV\n",
        "\n",
        "vm.repartition(1).write.csv(path + \"/Votacao/v2t_csv/\", sep=\";\", mode=\"overwrite\", header=True)\n"
      ]
    },
    {
      "cell_type": "code",
      "execution_count": null,
      "id": "95c3795c",
      "metadata": {
        "id": "95c3795c"
      },
      "outputs": [],
      "source": [
        "# Encerra a sessão e destrói o cache\n",
        "#spark.stop()"
      ]
    },
    {
      "cell_type": "markdown",
      "id": "61392e7b",
      "metadata": {
        "id": "61392e7b"
      },
      "source": [
        "# CONCLUSÃO\n",
        "\n",
        "Os grupos 0 e 1 apresentam algumas seções anômalas que podem ser visualizadas nos gráficos e nos números. \n",
        "\n",
        "Essas mesmas urnas já foram encontradas em diversas análises com outras técnicas e recortes. \n",
        "\n",
        "O fator das anomalias não pode ser facilmente explicado, podendo variar muito as causas disso. Certamente esse tipo de análise pode permitir uma investigação mais profunda do processo eleitoral brasileiro.\n",
        "\n",
        "Espero que você tenha ganho algum conhecimento com este notebook e que possa continuar analisando os dados com os arquivos gerados.\n",
        "\n",
        "Boa sorte!"
      ]
    },
    {
      "cell_type": "code",
      "source": [
        "!sleep 3600"
      ],
      "metadata": {
        "id": "HE6Jkgqa4HUV"
      },
      "id": "HE6Jkgqa4HUV",
      "execution_count": null,
      "outputs": []
    },
    {
      "cell_type": "code",
      "source": [],
      "metadata": {
        "id": "oTovRnAm4KCC"
      },
      "id": "oTovRnAm4KCC",
      "execution_count": null,
      "outputs": []
    }
  ],
  "metadata": {
    "kernelspec": {
      "display_name": "Python 3 (ipykernel)",
      "language": "python",
      "name": "python3"
    },
    "language_info": {
      "codemirror_mode": {
        "name": "ipython",
        "version": 3
      },
      "file_extension": ".py",
      "mimetype": "text/x-python",
      "name": "python",
      "nbconvert_exporter": "python",
      "pygments_lexer": "ipython3",
      "version": "3.9.13"
    },
    "colab": {
      "provenance": [],
      "collapsed_sections": [
        "931c9219",
        "8f771121",
        "9da86e5d"
      ],
      "machine_shape": "hm"
    },
    "gpuClass": "premium",
    "accelerator": "GPU"
  },
  "nbformat": 4,
  "nbformat_minor": 5
}